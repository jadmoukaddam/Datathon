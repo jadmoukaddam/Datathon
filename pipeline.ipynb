{
 "cells": [
  {
   "cell_type": "markdown",
   "id": "aa6d4ac5",
   "metadata": {},
   "source": [
    "# 1- Import Libraries"
   ]
  },
  {
   "cell_type": "code",
   "execution_count": 1,
   "id": "a8afc48b",
   "metadata": {},
   "outputs": [],
   "source": [
    "from load_data import load_clients\n",
    "import phonenumbers\n",
    "import pycountry\n",
    "import re\n",
    "from sklearn.metrics import confusion_matrix\n",
    "import numpy as np\n",
    "from datetime import datetime\n",
    "from countryinfo import CountryInfo\n",
    "from email_validator import validate_email, EmailNotValidError\n",
    "from geopy.geocoders import Nominatim\n",
    "from geopy.exc import GeocoderUnavailable, GeocoderTimedOut\n",
    "import pgeocode\n",
    "import pandas as pd\n",
    "from xgboost import XGBClassifier\n",
    "from sklearn.model_selection import train_test_split\n",
    "from sklearn.model_selection import cross_val_score, cross_validate\n",
    "from xgboost import XGBClassifier\n",
    "import numpy as np\n",
    "from datetime import timedelta\n"
   ]
  },
  {
   "cell_type": "markdown",
   "id": "61f393ac",
   "metadata": {},
   "source": [
    "# 2- Load Data"
   ]
  },
  {
   "cell_type": "code",
   "execution_count": 2,
   "id": "bcb5f77d",
   "metadata": {},
   "outputs": [],
   "source": [
    "clients = load_clients(\"clients.pkl\")\n"
   ]
  },
  {
   "cell_type": "code",
   "execution_count": 3,
   "id": "b4424799",
   "metadata": {},
   "outputs": [
    {
     "name": "stdout",
     "output_type": "stream",
     "text": [
      "{'passport': {'first_name': 'Freja', 'middle_name': 'Katrine', 'last_name': 'Christensen', 'gender': 'F', 'country': 'Denmark', 'country_code': 'DNK', 'nationality': 'Danish', 'birth_date': '2002-04-18', 'passport_number': 'UE2130779', 'passport_mrz': ['P<DNKCHRISTENSEN<<FREJA<KATRINE<<<<<<<<<<<<<<', 'UE2130779DNK020418<<<<<<<<<<<<<<<<<<<<<<<<<<<'], 'passport_issue_date': '2017-05-11', 'passport_expiry_date': '2027-05-10'}, 'client_profile': {'name': 'Freja Katrine Christensen', 'address': {'city': 'Aalborg', 'street name': 'Strøget', 'street number': 57, 'postal code': '2044'}, 'country_of_domicile': 'Denmark', 'birth_date': '2002-04-18', 'nationality': 'Danish', 'passport_number': 'UE2130779', 'passport_issue_date': '2017-05-11', 'passport_expiry_date': '2027-05-10', 'gender': 'F', 'phone_number': '53 11 20 42', 'email_address': 'freja.christensen@yousee.dk', 'marital_status': 'single', 'secondary_school': {'name': 'Holstebro Gymnasium', 'graduation_year': 2022}, 'higher_education': [], 'employment_history': [], 'aum': {'savings': 0, 'inheritance': 13140000, 'real_estate_value': 0}, 'inheritance_details': {'relationship': 'grandmother', 'inheritance year': 2020, 'profession': 'Oil and Gas Executive'}, 'real_estate_details': [], 'investment_risk_profile': 'High', 'investment_horizon': 'Medium', 'investment_experience': 'Inexperienced', 'type_of_mandate': 'Advisory', 'preferred_markets': ['Spain', 'Denmark'], 'currency': 'DKK'}, 'account_form': {'name': 'Freja Katrine Christensen', 'first_name': 'Freja', 'middle_name': 'Katrine', 'last_name': 'Christensen', 'passport_number': 'UE2130779', 'currency': 'DKK', 'address': {'city': 'Aalborg', 'street name': 'Strøget', 'street number': 57, 'postal code': '2044'}, 'country_of_domicile': 'Denmark', 'phone_number': '53 11 20 42', 'email_address': 'freja.christensen@yousee.dk'}, 'client_description': {'Summary Note': 'Freja Katrine Christensen and the RM were introduced at an art auction in Copenhagen. They bonded over their appreciation for contemporary art and exchanged contact information to discuss potential collaborations.\\nFreja Katrine Christensen is a 22 year old and comes from Denmark.\\nLooking for a private bank with a deep understanding of wealth management, she joined Julius Baer for its expertise.\\n', 'Family Background': 'Freja Katrine Christensen is currently single. She does not have any children.', 'Education Background': 'Freja obtained her secondary school diploma from Holstebro Gymnasium in 2022.\\n', 'Occupation History': 'Freja Katrine Christensen is a 22 year old and comes from Denmark.\\nFreja Katrine Christensen did not start her professional career yet.', 'Wealth Summary': 'She did not have any savings to invest in financial markets.\\nClient does not have any properties.In 2020, she received an inheritance of 13140000 DKK from her late grandmother, who was a prominent Oil and Gas Executive, and has since invested it in various assets.\\n', 'Client Summary': 'The RM is excited to help Freja navigate the challenges of starting a career and building a strong financial foundation.\\n'}, 'label': {'label': 'Accept'}}\n"
     ]
    }
   ],
   "source": [
    "print(clients[0])"
   ]
  },
  {
   "cell_type": "markdown",
   "id": "2bec2cd8",
   "metadata": {},
   "source": [
    "# 3- Define check functions"
   ]
  },
  {
   "cell_type": "code",
   "execution_count": null,
   "id": "4adf24cc",
   "metadata": {},
   "outputs": [],
   "source": [
    "error_messages = ['High School Graduation Inconsistent', 'Inconsistent country code, country name or nationality', 'Invalid Phone Number', 'Invalid Postal Code']"
   ]
  },
  {
   "cell_type": "code",
   "execution_count": 6,
   "id": "80859215",
   "metadata": {},
   "outputs": [],
   "source": [
    "def is_high_school_graduation_year_valid(graduation_year: int, birth_date: str, min_age: int = 16, max_age: int = 21) -> bool:\n",
    "    \"\"\"\n",
    "    Check if the graduation year is reasonable given a person's birth date.\n",
    "\n",
    "    Args:\n",
    "        graduation_year (int): The year the person graduated high school.\n",
    "        birth_date (str): Birth date in \"YYYY-MM-DD\" format.\n",
    "        min_age (int): Minimum expected age at graduation (default: 16)\n",
    "        max_age (int): Maximum expected age at graduation (default: 23)\n",
    "\n",
    "    Returns:\n",
    "        bool: True if the graduation year is within a reasonable age range.\n",
    "    \"\"\"\n",
    "    try:\n",
    "        birth_year = datetime.strptime(birth_date, \"%Y-%m-%d\").year\n",
    "        age_at_graduation = graduation_year - birth_year\n",
    "        return min_age <= age_at_graduation <= max_age\n",
    "    except ValueError:\n",
    "        print(\"Invalid birth date format. Use YYYY-MM-DD.\")\n",
    "        return False"
   ]
  },
  {
   "cell_type": "code",
   "execution_count": 132,
   "id": "c0ac754b",
   "metadata": {},
   "outputs": [],
   "source": [
    "def check_multiple_country_consistency(codes_str, countries_str, nationalities_str):\n",
    "    # Split input strings by commas and strip whitespace\n",
    "    codes = [c.strip() for c in codes_str.split(',')]\n",
    "    countries = [c.strip() for c in countries_str.split(',')]\n",
    "    nationalities = [n.strip() for n in nationalities_str.split(',')]\n",
    "\n",
    "    # Ensure all lists have the same length\n",
    "    if not (len(codes) == len(countries) == len(nationalities)):\n",
    "        return False, \"Input lists must be of the same length\"\n",
    "\n",
    "    results = []\n",
    "\n",
    "    for i, (code, country_name, nationality) in enumerate(zip(codes, countries, nationalities)):\n",
    "        try:\n",
    "            # 1. Validate country code\n",
    "            country = pycountry.countries.get(alpha_2=code.upper())\n",
    "            if not country:\n",
    "                results.append((False, f\"[{i}] Invalid country code: {code}\"))\n",
    "                continue\n",
    "\n",
    "            # 2. Check if country name matches code\n",
    "            if country.name.lower() != country_name.lower():\n",
    "                results.append((False, f\"[{i}] Mismatch: code '{code}' is for '{country.name}', not '{country_name}'\"))\n",
    "                continue\n",
    "\n",
    "            # 3. Check nationality using CountryInfo\n",
    "            info = CountryInfo(country.name)\n",
    "            expected_nationality = info.info().get(\"demonym\", None)\n",
    "\n",
    "            if not expected_nationality:\n",
    "                results.append((False, f\"[{i}] Could not find nationality for '{country.name}'\"))\n",
    "                continue\n",
    "\n",
    "            if nationality.lower() != expected_nationality.lower():\n",
    "                results.append((False, f\"[{i}] Nationality '{nationality}' does not match expected '{expected_nationality}' for {country.name}\"))\n",
    "                continue\n",
    "\n",
    "            # All good for this triplet\n",
    "            results.append((True, f\"[{i}] All fields are consistent and valid\"))\n",
    "\n",
    "        except KeyError:\n",
    "            results.append((False, f\"[{i}] CountryInfo does not recognize '{country_name}'\"))\n",
    "        except Exception as e:\n",
    "            results.append((False, f\"[{i}] Error: {str(e)}\"))\n",
    "\n",
    "    return results"
   ]
  },
  {
   "cell_type": "code",
   "execution_count": null,
   "id": "6efc677b",
   "metadata": {},
   "outputs": [],
   "source": [
    "def could_be_valid_email(email):\n",
    "    try:\n",
    "        validate_email(email, check_deliverability=False)\n",
    "        return True\n",
    "    except EmailNotValidError:\n",
    "        return False\n",
    "\n",
    "def compare_strings_ignore_spaces(str1, str2):\n",
    "    clean1 = str1.replace(\" \", \"\")\n",
    "    clean2 = str2.replace(\" \", \"\")\n",
    "    return clean1 == clean2\n",
    "\n",
    "def william_flags(client):\n",
    "    flags = True\n",
    "    if client['passport']['first_name'] != client['account_form']['first_name']:\n",
    "        flags = False\n",
    "    if client['passport']['last_name'] != client['account_form']['last_name']:\n",
    "        flags = False\n",
    "    if client['passport']['middle_name'] != client['account_form']['middle_name']:\n",
    "        flags = False\n",
    "    if compare_strings_ignore_spaces((client['passport']['first_name']+client['passport']['middle_name']+client['passport']['last_name']), client['account_form']['name']) == False:\n",
    "        flags = False\n",
    "    if compare_strings_ignore_spaces((client['passport']['first_name']+client['passport']['middle_name']+client['passport']['last_name']), client['client_profile']['name']) == False:\n",
    "        flags = False\n",
    "    if client['passport']['gender'] != client['client_profile']['gender']:\n",
    "        flags = False\n",
    "\n",
    "    if client['passport']['passport_number'] != client['account_form']['passport_number']:\n",
    "        flags = False\n",
    "    if client[]\n",
    "    \n",
    "    # Convert string to datetime object (adjust format if needed)\n",
    "    expiry_date = datetime.strptime(client['passport']['passport_expiry_date'], \"%Y-%m-%d\").date()\n",
    "    today = datetime.strptime(\"2021-04-10\", \"%Y-%m-%d\").date() #2025-04-1  ?\n",
    "    if expiry_date < today:\n",
    "        flags = False\n",
    "    \n",
    "    if could_be_valid_email(client['client_profile']['email_address']) == False:\n",
    "        flags = False\n",
    "    if client['account_form']['email_address'] != client['client_profile']['email_address']:\n",
    "        flags = False   \n",
    "    if client['account_form']['phone_number'] != client['client_profile']['phone_number']:\n",
    "        flags = False \n",
    "    passport_birth_date = datetime.strptime(client['passport']['birth_date'], \"%Y-%m-%d\").date()\n",
    "    client_birth_date = datetime.strptime(client['client_profile']['birth_date'], \"%Y-%m-%d\").date()\n",
    "    passport_issued_date = datetime.strptime(client['passport']['passport_issue_date'], \"%Y-%m-%d\").date()\n",
    "    client_issued_date = datetime.strptime(client['client_profile']['passport_issue_date'], \"%Y-%m-%d\").date()\n",
    "    passport_expiry_date = datetime.strptime(client['passport']['passport_expiry_date'], \"%Y-%m-%d\").date()\n",
    "    client_expiry_date = datetime.strptime(client['client_profile']['passport_expiry_date'], \"%Y-%m-%d\").date()\n",
    "    if passport_expiry_date < passport_issued_date:\n",
    "        flags = False\n",
    "    if passport_birth_date != client_birth_date:\n",
    "        flags = False\n",
    "    if passport_issued_date != client_issued_date:\n",
    "        flags = False\n",
    "    if passport_expiry_date != client_expiry_date:\n",
    "        flags = False\n",
    "    if passport_issued_date < passport_birth_date:\n",
    "        flags = False\n",
    "    return flags"
   ]
  },
  {
   "cell_type": "code",
   "execution_count": 134,
   "id": "271f63cc",
   "metadata": {},
   "outputs": [],
   "source": [
    "def mrz_check(client):\n",
    "    flags = True\n",
    "    if (flags == True) and (client['passport']['last_name'].upper() not in client['passport']['passport_mrz'][0] or client['passport']['first_name'].upper() not in client['passport']['passport_mrz'][0] or client['passport']['middle_name'].upper() not in client['passport']['passport_mrz'][0] or client['passport']['country_code'].upper() not in client['passport']['passport_mrz'][0]):\n",
    "        flags = False\n",
    "    if (flags == True) and ((len(client['passport']['middle_name']) == 0) and not (client['passport']['passport_mrz'][0].index(client['passport']['country_code'].upper()) < client['passport']['passport_mrz'][0].index(client['passport']['last_name'].upper()))): #no middle name\n",
    "        flags = False\n",
    "    if (flags == True) and ((len(client['passport']['middle_name']) != 0) and not (client['passport']['passport_mrz'][0].index(client['passport']['country_code'].upper()) < client['passport']['passport_mrz'][0].index(client['passport']['last_name'].upper()) < client['passport']['passport_mrz'][0].index(client['passport']['middle_name'].upper()))):\n",
    "        flags = False\n",
    "    if (flags == True) and (client['passport']['passport_number']+client['passport']['country_code']+client['passport']['birth_date'].replace('-','')[2:] not in client['passport']['passport_mrz'][1]):\n",
    "        flags = False\n",
    "    return flags"
   ]
  },
  {
   "cell_type": "code",
   "execution_count": 135,
   "id": "504c2164",
   "metadata": {},
   "outputs": [],
   "source": [
    "def currency_match(client):\n",
    "    flags = True\n",
    "    if client['account_form']['currency'] != client['client_profile']['currency']:\n",
    "        flags = False\n",
    "    return flags"
   ]
  },
  {
   "cell_type": "code",
   "execution_count": 136,
   "id": "422e1ba7",
   "metadata": {},
   "outputs": [],
   "source": [
    "def domicile_validator(client):\n",
    "    \"\"\"\n",
    "    Validates if the country of domicile in client profile corresponds to the country of domicile in account form\n",
    "    \"\"\"\n",
    "    return client['account_form']['country_of_domicile'] == client['client_profile']['country_of_domicile']\n",
    "\n",
    "def address_validator(client):\n",
    "    \"\"\"\n",
    "    Validates if the address in client profile corresponds to the address in account form\n",
    "    \"\"\"\n",
    "    return client['account_form']['address'] == client['client_profile']['address']\n",
    "\n",
    "_nomi_cache = {}\n",
    "\n",
    "def get_country_code(country_name):\n",
    "    \"\"\"\n",
    "    Convert a full country name (e.g., 'Spain') to ISO Alpha-2 code (e.g., 'ES').\n",
    "\n",
    "    Returns:\n",
    "        str or None: ISO Alpha-2 code or None if not found.\n",
    "    \"\"\"\n",
    "    try:\n",
    "        return pycountry.countries.lookup(country_name).alpha_2\n",
    "    except LookupError:\n",
    "        return None\n",
    "\n",
    "def get_nomi_instance(country_code):\n",
    "    \"\"\"\n",
    "    Return a cached pgeocode.Nominatim instance for the given country.\n",
    "    \"\"\"\n",
    "    if country_code not in _nomi_cache:\n",
    "        _nomi_cache[country_code] = pgeocode.Nominatim(country_code)\n",
    "    return _nomi_cache[country_code]\n",
    "\n",
    "def validate_postal_code_for_client(client):\n",
    "    \"\"\"\n",
    "    Validates if the postal code exists in the provided city and country.\n",
    "\n",
    "    Parameters:\n",
    "        client (dict): a client info.\n",
    "\n",
    "    Returns:\n",
    "        bool: True if postal code matches the city in any listed country, else False.\n",
    "    \"\"\"\n",
    "\n",
    "    # client_profile (dict): Must include 'address' and 'country_of_domicile'.\n",
    "    client_profile = client['client_profile']\n",
    "    country_names = [name.strip() for name in client_profile.get('country_of_domicile', '').split(',')]\n",
    "    address = client_profile.get('address', {})\n",
    "    city = address.get('city', '').lower()\n",
    "    postal_code = address.get('postal code', '')\n",
    "\n",
    "    for country_name in country_names:\n",
    "        country_code = get_country_code(country_name)\n",
    "        if not country_code:\n",
    "            continue  # Skip invalid countries\n",
    "\n",
    "        nomi = get_nomi_instance(country_code)\n",
    "        postal_info = nomi.query_postal_code(postal_code)['postal_code']\n",
    "\n",
    "        if postal_info is None:\n",
    "            continue\n",
    "\n",
    "        # matched_cities = [c.strip().lower() for c in postal_info.place_name.split(',')]\n",
    "        if postal_info == postal_code:\n",
    "            return True  # Valid match\n",
    "\n",
    "    return False  # No match found\n"
   ]
  },
  {
   "cell_type": "code",
   "execution_count": 137,
   "id": "56d13518",
   "metadata": {},
   "outputs": [],
   "source": [
    "def check_age(client):\n",
    "    try:\n",
    "        birth_date = datetime.strptime(client['client_profile']['birth_date'], \"%Y-%m-%d\")\n",
    "        age = (datetime.now()-timedelta(5) - birth_date).days // 365\n",
    "        return age >=18\n",
    "    except ValueError:\n",
    "        print(\"Invalid date format. Use YYYY-MM-DD.\")\n",
    "        return None"
   ]
  },
  {
   "cell_type": "code",
   "execution_count": 138,
   "id": "71cf4d35",
   "metadata": {},
   "outputs": [],
   "source": [
    "def check_higher_education(client):\n",
    "    try:\n",
    "        if client['client_profile']['higher_education'] is None or len(client['client_profile']['higher_education']) == 0:\n",
    "            return True\n",
    "        else:\n",
    "            birth_date = datetime.strptime(client['client_profile']['birth_date'], \"%Y-%m-%d\")\n",
    "            if client['client_profile']['higher_education'][0]['graduation_year'] > client['client_profile']['secondary_school']['graduation_year'] and client['client_profile']['higher_education'][0]['graduation_year'] - int(birth_date.year) >17:\n",
    "                return True\n",
    "            else:\n",
    "                return False\n",
    "    except ValueError:\n",
    "        print(\"Invalid date format. Use YYYY-MM-DD.\")\n",
    "        return False"
   ]
  },
  {
   "cell_type": "code",
   "execution_count": 139,
   "id": "30015992",
   "metadata": {},
   "outputs": [],
   "source": [
    "def check_employment_history(client):\n",
    "    try:\n",
    "        if client['client_profile']['employment_history'] is None or len(client['client_profile']['employment_history']) == 0:\n",
    "            return True\n",
    "        else:\n",
    "            birth_date = datetime.strptime(client['client_profile']['birth_date'], \"%Y-%m-%d\")\n",
    "            if client['client_profile']['employment_history'][0]['start_year']  - int(birth_date.year) >16:\n",
    "                return True\n",
    "            else:\n",
    "                return False\n",
    "    except ValueError:\n",
    "        print(\"Invalid date format. Use YYYY-MM-DD.\")\n",
    "        return False"
   ]
  },
  {
   "cell_type": "code",
   "execution_count": null,
   "id": "7a94da99",
   "metadata": {},
   "outputs": [],
   "source": [
    "def check_gender_not_null(client):\n",
    "    if client[\"passport\"][\"gender\"] is None or client[\"passport\"][\"gender\"] == \"\":\n",
    "        return False\n",
    "    return True\n",
    "\n",
    "def check_mandate_not_null(client):\n",
    "    if client[\"client_profile\"][\"type_of_mandate\"] is None or client[\"client_profile\"][\"type_of_mandate\"] == \"\":\n",
    "        return False\n",
    "    return True"
   ]
  },
  {
   "cell_type": "code",
   "execution_count": null,
   "id": "829d0864",
   "metadata": {},
   "outputs": [],
   "source": [
    "def check_empty_risk_profile(client):\n",
    "    if client[\"client_profile\"][\"investment_risk_profile\"] is None or client[\"client_profile\"][\"investment_risk_profile\"] == \"\":\n",
    "        return False\n",
    "    return True"
   ]
  },
  {
   "cell_type": "code",
   "execution_count": null,
   "id": "42cebb0b",
   "metadata": {},
   "outputs": [],
   "source": [
    "def check_properties_sum_to_aum(client):\n",
    "    try:\n",
    "        if client[\"client_profile\"][\"real_estate_details\"] is None or len(client[\"client_profile\"][\"real_estate_details\"]) == 0 and client[\"client_profile\"][\"aum\"][\"real_estate_value\"]>0:\n",
    "            return False\n",
    "        else:\n",
    "            value = [prop[\"property value\"] for prop in client[\"client_profile\"][\"real_estate_details\"]]\n",
    "            value = sum(value)\n",
    "            if value == client[\"client_profile\"][\"aum\"][\"real_estate_value\"]:\n",
    "                return True\n",
    "            else:\n",
    "                return False\n",
    "    except ValueError:\n",
    "        print(\"Invalid date format. Use YYYY-MM-DD.\")\n",
    "        return False"
   ]
  },
  {
   "cell_type": "markdown",
   "id": "d5594cfe",
   "metadata": {},
   "source": [
    "# 4- Flag the dataset"
   ]
  },
  {
   "cell_type": "code",
   "execution_count": null,
   "id": "093f23e0",
   "metadata": {},
   "outputs": [],
   "source": [
    "flags_preds = []\n",
    "\n",
    "for client in clients:\n",
    "    flags = True\n",
    "    if not check_multiple_country_consistency(client[\"passport\"][\"country_code\"],client[\"passport\"][\"country\"],client[\"passport\"][\"nationality\"]) or not is_high_school_graduation_year_valid(client['client_profile']['secondary_school']['graduation_year'], client['client_profile']['birth_date']) or not validate_postal_code_for_client(client) or not domicile_validator(client) or not address_validator(client) or not currency_match(client) or not mrz_check(client) or not william_flags(client) or not check_age(client) or not check_higher_education(client) or not check_employment_history(client) or not check_gender_not_null(client) or not check_empty_risk_profile(client) or not check_properties_sum_to_aum(client):\n",
    "        flags = False\n",
    "    flags_preds.append(flags)"
   ]
  },
  {
   "cell_type": "code",
   "execution_count": 142,
   "id": "bf7606d9",
   "metadata": {},
   "outputs": [],
   "source": [
    "client_labels = []\n",
    "for client in clients:\n",
    "    if client['label']['label'] == 'Reject':\n",
    "        client_labels.append(False)\n",
    "    elif client['label']['label'] == 'Accept':\n",
    "        client_labels.append(True)"
   ]
  },
  {
   "cell_type": "markdown",
   "id": "198363e3",
   "metadata": {},
   "source": [
    "# 5- Reducing training to mistakes"
   ]
  },
  {
   "cell_type": "code",
   "execution_count": 143,
   "id": "30d1200c",
   "metadata": {},
   "outputs": [
    {
     "name": "stdout",
     "output_type": "stream",
     "text": [
      "Remaining indexes length:  6422\n"
     ]
    }
   ],
   "source": [
    "remaining_indexes = []\n",
    "for i in range(len(flags_preds)):\n",
    "    if flags_preds[i] != client_labels[i] or client_labels[i] == flags_preds[i] == True:\n",
    "        remaining_indexes.append(i)\n",
    "print(\"Remaining indexes length: \", len(remaining_indexes))"
   ]
  },
  {
   "cell_type": "code",
   "execution_count": 144,
   "id": "8961e923",
   "metadata": {},
   "outputs": [],
   "source": [
    "#Only select the wrong indexes\n",
    "remaining_clients = [clients[j] for j in remaining_indexes]"
   ]
  },
  {
   "cell_type": "code",
   "execution_count": 145,
   "id": "ee7d2afe",
   "metadata": {},
   "outputs": [],
   "source": [
    "#save the remaining clients to a new file\n",
    "import pickle\n",
    "with open(\"remaining_clients.pkl\", \"wb\") as f:\n",
    "    pickle.dump(remaining_clients, f)"
   ]
  },
  {
   "cell_type": "markdown",
   "id": "5c9d3b98",
   "metadata": {},
   "source": [
    "# 6- Training function"
   ]
  },
  {
   "cell_type": "code",
   "execution_count": 146,
   "id": "938d1a39",
   "metadata": {},
   "outputs": [],
   "source": [
    "def train_xgb_model(df, feature_cols, target_col):\n",
    "    \"\"\"\n",
    "    Trains an XGBoost classifier using selected features from a preprocessed DataFrame.\n",
    "\n",
    "    Parameters:\n",
    "    - df: pandas DataFrame with preprocessed features (e.g., already multi-hot encoded)\n",
    "    - feature_cols: list of column names to use as features\n",
    "    - target_col: column name of the target\n",
    "\n",
    "    Returns:\n",
    "    - model: trained XGBClassifier\n",
    "    - feature_cols: list of features used (for inference)\n",
    "    \"\"\"\n",
    "    X_train = df[feature_cols]\n",
    "    y_train = df[target_col]\n",
    "\n",
    "    # Train/test split just for validation (optional)\n",
    "\n",
    "    model = XGBClassifier(use_label_encoder=False, eval_metric='logloss')\n",
    "    model.fit(X_train, y_train)\n",
    "\n",
    "    return model, feature_cols\n"
   ]
  },
  {
   "cell_type": "code",
   "execution_count": 147,
   "id": "4b811d87",
   "metadata": {},
   "outputs": [],
   "source": [
    "def prepare_features(df, feature_names):\n",
    "    return df[feature_names]\n",
    "\n"
   ]
  },
  {
   "cell_type": "markdown",
   "id": "8fe587a8",
   "metadata": {},
   "source": [
    "# 7- CV"
   ]
  },
  {
   "cell_type": "code",
   "execution_count": 148,
   "id": "d1838d59",
   "metadata": {},
   "outputs": [],
   "source": [
    "\n",
    "\n",
    "def cross_validate_xgb(df, feature_cols, target_col, cv=5, scoring='accuracy', return_train_score=False):\n",
    "    \"\"\"\n",
    "    Performs cross-validation on an XGBoost classifier.\n",
    "\n",
    "    Parameters:\n",
    "    - df: pandas DataFrame with preprocessed features\n",
    "    - feature_cols: list of columns used as input features\n",
    "    - target_col: name of the target column\n",
    "    - cv: number of cross-validation folds\n",
    "    - scoring: scoring metric (e.g., 'accuracy', 'f1', 'roc_auc')\n",
    "    - return_train_score: if True, returns training scores too\n",
    "\n",
    "    Returns:\n",
    "    - scores: dictionary of CV scores (mean, std, and optionally train/test scores)\n",
    "    \"\"\"\n",
    "    X = df[feature_cols]\n",
    "    y = df[target_col]\n",
    "\n",
    "    model = XGBClassifier(use_label_encoder=False, eval_metric='logloss')\n",
    "\n",
    "    scores = cross_validate(\n",
    "        model,\n",
    "        X,\n",
    "        y,\n",
    "        cv=cv,\n",
    "        scoring=scoring,\n",
    "        return_train_score=return_train_score,\n",
    "        n_jobs=-1\n",
    "    )\n",
    "\n",
    "    print(f\"Mean {scoring}: {np.mean(scores['test_score']):.4f} ± {np.std(scores['test_score']):.4f}\")\n",
    "    return scores"
   ]
  },
  {
   "cell_type": "markdown",
   "id": "e22d46fb",
   "metadata": {},
   "source": [
    "# x- Generate confusion matrix"
   ]
  },
  {
   "cell_type": "code",
   "execution_count": 149,
   "id": "04c61b2c",
   "metadata": {},
   "outputs": [
    {
     "data": {
      "text/plain": [
       "array([[3578,    0],\n",
       "       [1414, 5008]], dtype=int64)"
      ]
     },
     "execution_count": 149,
     "metadata": {},
     "output_type": "execute_result"
    }
   ],
   "source": [
    "from sklearn.metrics import confusion_matrix\n",
    "import numpy as np\n",
    "array_flags = np.array(flags_preds)\n",
    "array_labels = np.array(client_labels)\n",
    "confusion_matrix(np.array(flags_preds), np.array(client_labels))"
   ]
  }
 ],
 "metadata": {
  "kernelspec": {
   "display_name": "Python 3",
   "language": "python",
   "name": "python3"
  },
  "language_info": {
   "codemirror_mode": {
    "name": "ipython",
    "version": 3
   },
   "file_extension": ".py",
   "mimetype": "text/x-python",
   "name": "python",
   "nbconvert_exporter": "python",
   "pygments_lexer": "ipython3",
   "version": "3.11.3"
  }
 },
 "nbformat": 4,
 "nbformat_minor": 5
}
