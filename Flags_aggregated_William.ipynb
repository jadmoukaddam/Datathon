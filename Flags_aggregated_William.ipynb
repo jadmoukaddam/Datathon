{
 "cells": [
  {
   "cell_type": "code",
   "execution_count": 1,
   "id": "6c044e3d",
   "metadata": {},
   "outputs": [],
   "source": [
    "def compare_strings_ignore_spaces(str1, str2):\n",
    "    clean1 = str1.replace(\" \", \"\")\n",
    "    clean2 = str2.replace(\" \", \"\")\n",
    "    return clean1 == clean2"
   ]
  },
  {
   "cell_type": "code",
   "execution_count": 2,
   "id": "07644702",
   "metadata": {},
   "outputs": [],
   "source": [
    "import pickle\n",
    "def load_clients(pickle_path):\n",
    "    try:\n",
    "        with open(pickle_path, \"rb\") as f:\n",
    "            clients = pickle.load(f)\n",
    "        return clients\n",
    "    except Exception as e:\n",
    "        print(f\"Failed to load pickle file: {e}\")\n",
    "        return None\n",
    "full_data = load_clients(\"clients.pkl\")"
   ]
  },
  {
   "cell_type": "code",
   "execution_count": 4,
   "id": "ec371b45",
   "metadata": {},
   "outputs": [],
   "source": [
    "client_labels = []\n",
    "for clients in full_data:\n",
    "    if clients['label']['label'] == 'Reject':\n",
    "        client_labels.append(False)\n",
    "    elif clients['label']['label'] == 'Accept':\n",
    "        client_labels.append(True)"
   ]
  },
  {
   "cell_type": "code",
   "execution_count": null,
   "id": "b6f75a39",
   "metadata": {},
   "outputs": [],
   "source": [
    "flags_preds = []       \n",
    "for client in full_data:\n",
    "    \n",
    "    flags = True\n",
    "    if client['passport']['first_name'] != client['account_form']['first_name']:\n",
    "        flags = False\n",
    "    if client['passport']['last_name'] != client['account_form']['last_name']:\n",
    "        flags = False\n",
    "    if client['passport']['middle_name'] != client['account_form']['middle_name']:\n",
    "        flags = False\n",
    "    if compare_strings_ignore_spaces((client['passport']['first_name']+client['passport']['middle_name']+client['passport']['last_name']), client['account_form']['name']) == False:\n",
    "        flags = False\n",
    "    if compare_strings_ignore_spaces((client['passport']['first_name']+client['passport']['middle_name']+client['passport']['last_name']), client['client_profile']['name']) == False:\n",
    "        flags = False\n",
    "    if client['passport']['gender'] != client['client_profile']['gender']:\n",
    "        flags = False\n",
    "\n",
    "    flags_preds.append(flags)\n",
    "\n",
    "flags_preds = []       \n",
    "for client in full_data:\n",
    "    flags = True\n",
    "    if client['passport']['passport_number'] != client['account_form']['passport_number']:\n",
    "        flags = False\n",
    "    flags_preds.append(flags)\n",
    "\n",
    "from datetime import datetime\n",
    "\n",
    "flags_preds = [] \n",
    "for client in full_data:\n",
    "    flags = True\n",
    "    expiry_str = client['passport']['passport_expiry_date']\n",
    "    \n",
    "    # Convert string to datetime object (adjust format if needed)\n",
    "    expiry_date = datetime.strptime(client['passport']['passport_expiry_date'], \"%Y-%m-%d\").date()\n",
    "    today = datetime.strptime(\"2021-04-10\", \"%Y-%m-%d\").date() #2025-04-1  ?\n",
    "    if expiry_date < today:\n",
    "        flags = False\n",
    "\n",
    "    \n",
    "    flags_preds.append(flags)\n",
    "\n",
    "from email_validator import validate_email, EmailNotValidError\n",
    "\n",
    "def could_be_valid_email(email):\n",
    "    try:\n",
    "        validate_email(email, check_deliverability=False)\n",
    "        return True\n",
    "    except EmailNotValidError:\n",
    "        return False\n",
    "    \n",
    "flags_preds = []       \n",
    "for client in full_data:\n",
    "    flags = True\n",
    "    if could_be_valid_email(client['client_profile']['email_address']) == False:\n",
    "        flags = False\n",
    "    if client['account_form']['email_address'] != client['client_profile']['email_address']:\n",
    "        flags = False   \n",
    "    if client['account_form']['phone_number'] != client['client_profile']['phone_number']:\n",
    "        flags = False \n",
    "    flags_preds.append(flags)\n",
    "\n",
    "flags_preds = []       \n",
    "for client in full_data:\n",
    "    flags = True\n",
    "    passport_birth_date = datetime.strptime(client['passport']['birth_date'], \"%Y-%m-%d\").date()\n",
    "    client_birth_date = datetime.strptime(client['client_profile']['birth_date'], \"%Y-%m-%d\").date()\n",
    "    passport_issued_date = datetime.strptime(client['passport']['passport_issue_date'], \"%Y-%m-%d\").date()\n",
    "    client_issued_date = datetime.strptime(client['client_profile']['passport_issue_date'], \"%Y-%m-%d\").date()\n",
    "    passport_expiry_date = datetime.strptime(client['passport']['passport_expiry_date'], \"%Y-%m-%d\").date()\n",
    "    client_expiry_date = datetime.strptime(client['client_profile']['passport_expiry_date'], \"%Y-%m-%d\").date()\n",
    "    if passport_expiry_date < passport_issued_date:\n",
    "        flags = False\n",
    "    if passport_birth_date != client_birth_date:\n",
    "        flags = False\n",
    "    if passport_issued_date != client_issued_date:\n",
    "        flags = False\n",
    "    if passport_expiry_date != client_expiry_date:\n",
    "        flags = False\n",
    "    if passport_issued_date < passport_birth_date:\n",
    "        flags = False\n",
    "    \n",
    "    flags_preds.append(flags)"
   ]
  },
  {
   "cell_type": "code",
   "execution_count": 18,
   "id": "f7734cbb",
   "metadata": {},
   "outputs": [
    {
     "name": "stdout",
     "output_type": "stream",
     "text": [
      "[[  88    0]\n",
      " [4904 5008]]\n"
     ]
    }
   ],
   "source": [
    "from sklearn.metrics import confusion_matrix\n",
    "import numpy as np\n",
    "print(confusion_matrix(np.array(flags_preds), np.array(client_labels)))"
   ]
  }
 ],
 "metadata": {
  "kernelspec": {
   "display_name": "Python 3",
   "language": "python",
   "name": "python3"
  },
  "language_info": {
   "codemirror_mode": {
    "name": "ipython",
    "version": 3
   },
   "file_extension": ".py",
   "mimetype": "text/x-python",
   "name": "python",
   "nbconvert_exporter": "python",
   "pygments_lexer": "ipython3",
   "version": "3.11.3"
  }
 },
 "nbformat": 4,
 "nbformat_minor": 5
}
