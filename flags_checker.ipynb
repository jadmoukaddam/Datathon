{
 "cells": [
  {
   "cell_type": "code",
   "execution_count": 1,
   "id": "0b1f6c6a",
   "metadata": {},
   "outputs": [],
   "source": [
    "import pickle\n",
    "def load_clients(pickle_path):\n",
    "    try:\n",
    "        with open(pickle_path, \"rb\") as f:\n",
    "            clients = pickle.load(f)\n",
    "        return clients\n",
    "    except Exception as e:\n",
    "        print(f\"Failed to load pickle file: {e}\")\n",
    "        return None\n",
    "\n",
    "full_data = load_clients(\"clients.pkl\")"
   ]
  },
  {
   "cell_type": "code",
   "execution_count": 23,
   "id": "fd6ca900",
   "metadata": {},
   "outputs": [],
   "source": [
    "client_labels = []\n",
    "for clients in full_data:\n",
    "    if clients['label']['label'] == 'Reject':\n",
    "        client_labels.append(False)\n",
    "    elif clients['label']['label'] == 'Accept':\n",
    "        client_labels.append(True)"
   ]
  },
  {
   "cell_type": "code",
   "execution_count": 14,
   "id": "a233a0d5",
   "metadata": {},
   "outputs": [],
   "source": [
    "def check_client_labels(clients, flags):\n",
    "    if clients['label']['label'] == 'Reject' and flags == False:\n",
    "        return 1\n",
    "    elif clients['label']['label'] == 'Accept' and flags == True:\n",
    "        return 1\n",
    "    elif clients['label']['label'] == 'Accept' and flags == False:\n",
    "        print(\"false negative\")\n",
    "        return 0\n",
    "    return 0\n",
    "flags_preds = []       \n",
    "for client in full_data:\n",
    "    flags = True\n",
    "    if client['passport']['first_name'] != client['account_form']['first_name']:\n",
    "        flags = False\n",
    "    flags_preds.append(flags)\n",
    "\n"
   ]
  },
  {
   "cell_type": "code",
   "execution_count": null,
   "id": "2326e533",
   "metadata": {},
   "outputs": [],
   "source": [
    "array_flags = np.array(flags_preds)\n",
    "array_labels = np.array(client_labels)"
   ]
  },
  {
   "cell_type": "code",
   "execution_count": 26,
   "id": "5f78602e",
   "metadata": {},
   "outputs": [
    {
     "data": {
      "text/plain": [
       "array([[ 317,    0],\n",
       "       [4675, 5008]], dtype=int64)"
      ]
     },
     "execution_count": 26,
     "metadata": {},
     "output_type": "execute_result"
    }
   ],
   "source": [
    "from sklearn.metrics import confusion_matrix\n",
    "import numpy as np\n",
    "confusion_matrix(np.array(flags_preds), np.array(client_labels))"
   ]
  },
  {
   "cell_type": "code",
   "execution_count": 12,
   "id": "f497e293",
   "metadata": {},
   "outputs": [],
   "source": [
    "def check_client_labels(clients, flags):\n",
    "    if clients['label']['label'] == 'Reject' and flags == False:\n",
    "        return 1\n",
    "    elif clients['label']['label'] == 'Accept' and flags == True:\n",
    "        return 1\n",
    "    elif clients['label']['label'] == 'Accept' and flags == False:\n",
    "        print(\"false negative\")\n",
    "        return 0\n",
    "    return 0\n",
    "        \n",
    "for client in full_data:\n",
    "    flags = True\n",
    "    if client['passport']['last_name'] != client['account_form']['last_name']:\n",
    "        flags = False\n",
    "    check_client_labels(client, flags)"
   ]
  },
  {
   "cell_type": "code",
   "execution_count": null,
   "id": "f0249ef3",
   "metadata": {},
   "outputs": [],
   "source": []
  },
  {
   "cell_type": "code",
   "execution_count": null,
   "id": "5b0f5979",
   "metadata": {},
   "outputs": [],
   "source": [
    "def check_client_labels(clients, flags):\n",
    "    if clients['label']['label'] == 'Reject' and flags == False:\n",
    "        return 1\n",
    "    elif clients['label']['label'] == 'Accept' and flags == True:\n",
    "        return 1\n",
    "    elif clients['label']['label'] == 'Accept' and flags == False:\n",
    "        print(\"false negative\")\n",
    "        return 0\n",
    "    return 0\n",
    "        \n",
    "for client in full_data:\n",
    "    flags = True\n",
    "    if client['passport']['first_name'] != client['account_form']['first_name']:\n",
    "        flags = False\n",
    "    check_client_labels(client, flags)"
   ]
  },
  {
   "cell_type": "code",
   "execution_count": 3,
   "id": "0ea6c132",
   "metadata": {},
   "outputs": [
    {
     "data": {
      "text/plain": [
       "dict_keys(['passport', 'client_profile', 'account_form', 'client_description', 'label'])"
      ]
     },
     "execution_count": 3,
     "metadata": {},
     "output_type": "execute_result"
    }
   ],
   "source": [
    "full_data[0].keys()"
   ]
  }
 ],
 "metadata": {
  "kernelspec": {
   "display_name": "Python 3",
   "language": "python",
   "name": "python3"
  },
  "language_info": {
   "codemirror_mode": {
    "name": "ipython",
    "version": 3
   },
   "file_extension": ".py",
   "mimetype": "text/x-python",
   "name": "python",
   "nbconvert_exporter": "python",
   "pygments_lexer": "ipython3",
   "version": "3.11.3"
  }
 },
 "nbformat": 4,
 "nbformat_minor": 5
}
