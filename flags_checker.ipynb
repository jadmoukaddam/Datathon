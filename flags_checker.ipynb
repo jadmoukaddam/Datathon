{
 "cells": [
  {
   "cell_type": "code",
   "execution_count": 1,
   "id": "0b1f6c6a",
   "metadata": {},
   "outputs": [],
   "source": [
    "import pickle\n",
    "def load_clients(pickle_path):\n",
    "    try:\n",
    "        with open(pickle_path, \"rb\") as f:\n",
    "            clients = pickle.load(f)\n",
    "        return clients\n",
    "    except Exception as e:\n",
    "        print(f\"Failed to load pickle file: {e}\")\n",
    "        return None\n",
    "\n",
    "full_data = load_clients(\"clients.pkl\")"
   ]
  },
  {
   "cell_type": "code",
   "execution_count": 7,
   "id": "a233a0d5",
   "metadata": {},
   "outputs": [],
   "source": [
    "def check_client_labels(clients, flags):\n",
    "    if clients['label']['label'] == 'Reject' and flags == False:\n",
    "        return 1\n",
    "    elif clients['label']['label'] == 'Accept' and flags == True:\n",
    "        return 1\n",
    "    elif clients['label']['label'] == 'Accept' and flags == False:\n",
    "        print(\"false negative\")\n",
    "        return 0\n",
    "    return 0\n",
    "        \n",
    "for client in full_data:\n",
    "    flags = True\n",
    "    if client['passport']['first_name'] != client['account_form']['first_name']:\n",
    "        flags = False\n",
    "    check_client_labels(client, flags)\n"
   ]
  },
  {
   "cell_type": "code",
   "execution_count": 3,
   "id": "0ea6c132",
   "metadata": {},
   "outputs": [
    {
     "data": {
      "text/plain": [
       "dict_keys(['passport', 'client_profile', 'account_form', 'client_description', 'label'])"
      ]
     },
     "execution_count": 3,
     "metadata": {},
     "output_type": "execute_result"
    }
   ],
   "source": [
    "full_data[0].keys()"
   ]
  }
 ],
 "metadata": {
  "kernelspec": {
   "display_name": "Python 3",
   "language": "python",
   "name": "python3"
  },
  "language_info": {
   "codemirror_mode": {
    "name": "ipython",
    "version": 3
   },
   "file_extension": ".py",
   "mimetype": "text/x-python",
   "name": "python",
   "nbconvert_exporter": "python",
   "pygments_lexer": "ipython3",
   "version": "3.11.3"
  }
 },
 "nbformat": 4,
 "nbformat_minor": 5
}
