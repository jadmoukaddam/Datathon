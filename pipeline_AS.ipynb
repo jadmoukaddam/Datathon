{
 "cells": [
  {
   "cell_type": "code",
   "execution_count": 43,
   "id": "447b0184",
   "metadata": {},
   "outputs": [],
   "source": [
    "from load_data import load_clients\n",
    "import phonenumbers\n",
    "import pycountry\n",
    "import re\n",
    "from sklearn.metrics import confusion_matrix\n",
    "import numpy as np\n",
    "from datetime import datetime\n",
    "from countryinfo import CountryInfo\n",
    "from email_validator import validate_email, EmailNotValidError\n",
    "from geopy.geocoders import Nominatim\n",
    "from geopy.exc import GeocoderUnavailable, GeocoderTimedOut\n",
    "import pgeocode\n",
    "import pandas as pd\n",
    "from xgboost import XGBClassifier\n",
    "from sklearn.model_selection import train_test_split\n",
    "from sklearn.model_selection import cross_val_score, cross_validate\n",
    "from xgboost import XGBClassifier\n",
    "import numpy as np\n",
    "from datetime import timedelta\n",
    "\n",
    "\n",
    "from catboost import CatBoostClassifier\n",
    "from sklearn.model_selection import train_test_split, GridSearchCV, StratifiedKFold\n",
    "from sklearn.metrics import confusion_matrix, classification_report\n",
    "from BorutaShap import BorutaShap\n"
   ]
  },
  {
   "cell_type": "code",
   "execution_count": null,
   "id": "e1b09b63",
   "metadata": {},
   "outputs": [
    {
     "name": "stdout",
     "output_type": "stream",
     "text": [
      "Collecting git+https://github.com/Ekeany/Boruta-Shap.git\n",
      "  Cloning https://github.com/Ekeany/Boruta-Shap.git to c:\\users\\aliak\\appdata\\local\\temp\\pip-req-build-9208drgq\n",
      "  Resolved https://github.com/Ekeany/Boruta-Shap.git to commit 3f7d60f78ff05b8da015339e9188980a18456a5e\n",
      "  Preparing metadata (setup.py): started\n",
      "  Preparing metadata (setup.py): finished with status 'done'\n",
      "Requirement already satisfied: scikit-learn in c:\\users\\aliak\\anaconda3\\lib\\site-packages (from BorutaShap==1.0.14) (1.0.2)\n",
      "Requirement already satisfied: tqdm in c:\\users\\aliak\\anaconda3\\lib\\site-packages (from BorutaShap==1.0.14) (4.64.1)\n",
      "Requirement already satisfied: statsmodels in c:\\users\\aliak\\anaconda3\\lib\\site-packages (from BorutaShap==1.0.14) (0.13.2)\n",
      "Requirement already satisfied: matplotlib in c:\\users\\aliak\\anaconda3\\lib\\site-packages (from BorutaShap==1.0.14) (3.5.2)\n",
      "Requirement already satisfied: pandas in c:\\users\\aliak\\anaconda3\\lib\\site-packages (from BorutaShap==1.0.14) (1.4.4)\n",
      "Requirement already satisfied: numpy in c:\\users\\aliak\\anaconda3\\lib\\site-packages (from BorutaShap==1.0.14) (1.21.6)\n",
      "Requirement already satisfied: shap>=0.34.0 in c:\\users\\aliak\\anaconda3\\lib\\site-packages (from BorutaShap==1.0.14) (0.41.0)\n",
      "Requirement already satisfied: seaborn in c:\\users\\aliak\\anaconda3\\lib\\site-packages (from BorutaShap==1.0.14) (0.11.2)\n",
      "Requirement already satisfied: scipy in c:\\users\\aliak\\anaconda3\\lib\\site-packages (from BorutaShap==1.0.14) (1.9.1)\n",
      "Requirement already satisfied: packaging>20.9 in c:\\users\\aliak\\anaconda3\\lib\\site-packages (from shap>=0.34.0->BorutaShap==1.0.14) (21.3)\n",
      "Requirement already satisfied: slicer==0.0.7 in c:\\users\\aliak\\anaconda3\\lib\\site-packages (from shap>=0.34.0->BorutaShap==1.0.14) (0.0.7)\n",
      "Requirement already satisfied: numba in c:\\users\\aliak\\anaconda3\\lib\\site-packages (from shap>=0.34.0->BorutaShap==1.0.14) (0.55.1)\n",
      "Requirement already satisfied: cloudpickle in c:\\users\\aliak\\anaconda3\\lib\\site-packages (from shap>=0.34.0->BorutaShap==1.0.14) (2.0.0)\n",
      "Requirement already satisfied: colorama in c:\\users\\aliak\\anaconda3\\lib\\site-packages (from tqdm->BorutaShap==1.0.14) (0.4.5)\n",
      "Requirement already satisfied: pyparsing>=2.2.1 in c:\\users\\aliak\\anaconda3\\lib\\site-packages (from matplotlib->BorutaShap==1.0.14) (3.0.9)\n",
      "Requirement already satisfied: kiwisolver>=1.0.1 in c:\\users\\aliak\\anaconda3\\lib\\site-packages (from matplotlib->BorutaShap==1.0.14) (1.4.2)\n",
      "Requirement already satisfied: fonttools>=4.22.0 in c:\\users\\aliak\\anaconda3\\lib\\site-packages (from matplotlib->BorutaShap==1.0.14) (4.25.0)\n",
      "Requirement already satisfied: cycler>=0.10 in c:\\users\\aliak\\anaconda3\\lib\\site-packages (from matplotlib->BorutaShap==1.0.14) (0.11.0)\n",
      "Requirement already satisfied: pillow>=6.2.0 in c:\\users\\aliak\\anaconda3\\lib\\site-packages (from matplotlib->BorutaShap==1.0.14) (9.2.0)\n",
      "Requirement already satisfied: python-dateutil>=2.7 in c:\\users\\aliak\\anaconda3\\lib\\site-packages (from matplotlib->BorutaShap==1.0.14) (2.8.2)\n",
      "Requirement already satisfied: pytz>=2020.1 in c:\\users\\aliak\\anaconda3\\lib\\site-packages (from pandas->BorutaShap==1.0.14) (2022.1)\n",
      "Requirement already satisfied: threadpoolctl>=2.0.0 in c:\\users\\aliak\\anaconda3\\lib\\site-packages (from scikit-learn->BorutaShap==1.0.14) (2.2.0)\n",
      "Requirement already satisfied: joblib>=0.11 in c:\\users\\aliak\\anaconda3\\lib\\site-packages (from scikit-learn->BorutaShap==1.0.14) (1.1.0)\n",
      "Requirement already satisfied: patsy>=0.5.2 in c:\\users\\aliak\\anaconda3\\lib\\site-packages (from statsmodels->BorutaShap==1.0.14) (0.5.2)\n",
      "Requirement already satisfied: six in c:\\users\\aliak\\anaconda3\\lib\\site-packages (from patsy>=0.5.2->statsmodels->BorutaShap==1.0.14) (1.15.0)\n",
      "Requirement already satisfied: llvmlite<0.39,>=0.38.0rc1 in c:\\users\\aliak\\anaconda3\\lib\\site-packages (from numba->shap>=0.34.0->BorutaShap==1.0.14) (0.38.0)\n",
      "Requirement already satisfied: setuptools in c:\\users\\aliak\\anaconda3\\lib\\site-packages (from numba->shap>=0.34.0->BorutaShap==1.0.14) (63.4.1)\n",
      "Building wheels for collected packages: BorutaShap\n",
      "  Building wheel for BorutaShap (setup.py): started\n",
      "  Building wheel for BorutaShap (setup.py): finished with status 'done'\n",
      "  Created wheel for BorutaShap: filename=BorutaShap-1.0.14-py3-none-any.whl size=14954 sha256=307c062d710c69868ce98d8f58a99f47ff170d4b3023d04cef6fd32d143d48a8\n",
      "  Stored in directory: C:\\Users\\aliak\\AppData\\Local\\Temp\\pip-ephem-wheel-cache-5cq1tahd\\wheels\\3d\\da\\1c\\85c55fc0c6b773c4a9481843be489679f0fea20cf99d486230\n",
      "Successfully built BorutaShap\n",
      "Installing collected packages: BorutaShap\n",
      "Successfully installed BorutaShap-1.0.14\n"
     ]
    },
    {
     "name": "stderr",
     "output_type": "stream",
     "text": [
      "  Running command git clone --filter=blob:none --quiet https://github.com/Ekeany/Boruta-Shap.git 'C:\\Users\\aliak\\AppData\\Local\\Temp\\pip-req-build-9208drgq'\n"
     ]
    }
   ],
   "source": [
    "# !pip install git+https://github.com/Ekeany/Boruta-Shap.git\n"
   ]
  },
  {
   "cell_type": "code",
   "execution_count": 3,
   "id": "4597b98a",
   "metadata": {},
   "outputs": [],
   "source": [
    "clients = load_clients(\"clients.pkl\")"
   ]
  },
  {
   "cell_type": "code",
   "execution_count": 4,
   "id": "a73b621e",
   "metadata": {},
   "outputs": [
    {
     "name": "stdout",
     "output_type": "stream",
     "text": [
      "{'passport': {'first_name': 'Freja', 'middle_name': 'Katrine', 'last_name': 'Christensen', 'gender': 'F', 'country': 'Denmark', 'country_code': 'DNK', 'nationality': 'Danish', 'birth_date': '2002-04-18', 'passport_number': 'UE2130779', 'passport_mrz': ['P<DNKCHRISTENSEN<<FREJA<KATRINE<<<<<<<<<<<<<<', 'UE2130779DNK020418<<<<<<<<<<<<<<<<<<<<<<<<<<<'], 'passport_issue_date': '2017-05-11', 'passport_expiry_date': '2027-05-10'}, 'client_profile': {'name': 'Freja Katrine Christensen', 'address': {'city': 'Aalborg', 'street name': 'Strøget', 'street number': 57, 'postal code': '2044'}, 'country_of_domicile': 'Denmark', 'birth_date': '2002-04-18', 'nationality': 'Danish', 'passport_number': 'UE2130779', 'passport_issue_date': '2017-05-11', 'passport_expiry_date': '2027-05-10', 'gender': 'F', 'phone_number': '53 11 20 42', 'email_address': 'freja.christensen@yousee.dk', 'marital_status': 'single', 'secondary_school': {'name': 'Holstebro Gymnasium', 'graduation_year': 2022}, 'higher_education': [], 'employment_history': [], 'aum': {'savings': 0, 'inheritance': 13140000, 'real_estate_value': 0}, 'inheritance_details': {'relationship': 'grandmother', 'inheritance year': 2020, 'profession': 'Oil and Gas Executive'}, 'real_estate_details': [], 'investment_risk_profile': 'High', 'investment_horizon': 'Medium', 'investment_experience': 'Inexperienced', 'type_of_mandate': 'Advisory', 'preferred_markets': ['Spain', 'Denmark'], 'currency': 'DKK'}, 'account_form': {'name': 'Freja Katrine Christensen', 'first_name': 'Freja', 'middle_name': 'Katrine', 'last_name': 'Christensen', 'passport_number': 'UE2130779', 'currency': 'DKK', 'address': {'city': 'Aalborg', 'street name': 'Strøget', 'street number': 57, 'postal code': '2044'}, 'country_of_domicile': 'Denmark', 'phone_number': '53 11 20 42', 'email_address': 'freja.christensen@yousee.dk'}, 'client_description': {'Summary Note': 'Freja Katrine Christensen and the RM were introduced at an art auction in Copenhagen. They bonded over their appreciation for contemporary art and exchanged contact information to discuss potential collaborations.\\nFreja Katrine Christensen is a 22 year old and comes from Denmark.\\nLooking for a private bank with a deep understanding of wealth management, she joined Julius Baer for its expertise.\\n', 'Family Background': 'Freja Katrine Christensen is currently single. She does not have any children.', 'Education Background': 'Freja obtained her secondary school diploma from Holstebro Gymnasium in 2022.\\n', 'Occupation History': 'Freja Katrine Christensen is a 22 year old and comes from Denmark.\\nFreja Katrine Christensen did not start her professional career yet.', 'Wealth Summary': 'She did not have any savings to invest in financial markets.\\nClient does not have any properties.In 2020, she received an inheritance of 13140000 DKK from her late grandmother, who was a prominent Oil and Gas Executive, and has since invested it in various assets.\\n', 'Client Summary': 'The RM is excited to help Freja navigate the challenges of starting a career and building a strong financial foundation.\\n'}, 'label': {'label': 'Accept'}}\n"
     ]
    }
   ],
   "source": [
    "print(clients[0])"
   ]
  },
  {
   "cell_type": "markdown",
   "id": "39c9ef54",
   "metadata": {},
   "source": [
    "# 3- Define check functions"
   ]
  },
  {
   "cell_type": "code",
   "execution_count": 5,
   "id": "287cf252",
   "metadata": {},
   "outputs": [],
   "source": [
    "error_messages = ['High School Graduation Inconsistent', 'Inconsistent country code, country name or nationality', 'Invalid Phone Number', 'Invalid Postal Code']"
   ]
  },
  {
   "cell_type": "code",
   "execution_count": 6,
   "id": "2b87267c",
   "metadata": {},
   "outputs": [],
   "source": [
    "def is_high_school_graduation_year_valid(graduation_year: int, birth_date: str, min_age: int = 16, max_age: int = 21) -> bool:\n",
    "    \"\"\"\n",
    "    Check if the graduation year is reasonable given a person's birth date.\n",
    "\n",
    "    Args:\n",
    "        graduation_year (int): The year the person graduated high school.\n",
    "        birth_date (str): Birth date in \"YYYY-MM-DD\" format.\n",
    "        min_age (int): Minimum expected age at graduation (default: 16)\n",
    "        max_age (int): Maximum expected age at graduation (default: 23)\n",
    "\n",
    "    Returns:\n",
    "        bool: True if the graduation year is within a reasonable age range.\n",
    "    \"\"\"\n",
    "    try:\n",
    "        birth_year = datetime.strptime(birth_date, \"%Y-%m-%d\").year\n",
    "        age_at_graduation = graduation_year - birth_year\n",
    "        return min_age <= age_at_graduation <= max_age\n",
    "    except ValueError:\n",
    "        print(\"Invalid birth date format. Use YYYY-MM-DD.\")\n",
    "        return False"
   ]
  },
  {
   "cell_type": "code",
   "execution_count": 7,
   "id": "99e6d7c9",
   "metadata": {},
   "outputs": [],
   "source": [
    "def check_multiple_country_consistency(codes_str, countries_str, nationalities_str):\n",
    "    # Split input strings by commas and strip whitespace\n",
    "    codes = [c.strip() for c in codes_str.split(',')]\n",
    "    countries = [c.strip() for c in countries_str.split(',')]\n",
    "    nationalities = [n.strip() for n in nationalities_str.split(',')]\n",
    "\n",
    "    # Ensure all lists have the same length\n",
    "    if not (len(codes) == len(countries) == len(nationalities)):\n",
    "        return False, \"Input lists must be of the same length\"\n",
    "\n",
    "    results = []\n",
    "\n",
    "    for i, (code, country_name, nationality) in enumerate(zip(codes, countries, nationalities)):\n",
    "        try:\n",
    "            # 1. Validate country code\n",
    "            country = pycountry.countries.get(alpha_2=code.upper())\n",
    "            if not country:\n",
    "                results.append((False, f\"[{i}] Invalid country code: {code}\"))\n",
    "                continue\n",
    "\n",
    "            # 2. Check if country name matches code\n",
    "            if country.name.lower() != country_name.lower():\n",
    "                results.append((False, f\"[{i}] Mismatch: code '{code}' is for '{country.name}', not '{country_name}'\"))\n",
    "                continue\n",
    "\n",
    "            # 3. Check nationality using CountryInfo\n",
    "            info = CountryInfo(country.name)\n",
    "            expected_nationality = info.info().get(\"demonym\", None)\n",
    "\n",
    "            if not expected_nationality:\n",
    "                results.append((False, f\"[{i}] Could not find nationality for '{country.name}'\"))\n",
    "                continue\n",
    "\n",
    "            if nationality.lower() != expected_nationality.lower():\n",
    "                results.append((False, f\"[{i}] Nationality '{nationality}' does not match expected '{expected_nationality}' for {country.name}\"))\n",
    "                continue\n",
    "\n",
    "            # All good for this triplet\n",
    "            results.append((True, f\"[{i}] All fields are consistent and valid\"))\n",
    "\n",
    "        except KeyError:\n",
    "            results.append((False, f\"[{i}] CountryInfo does not recognize '{country_name}'\"))\n",
    "        except Exception as e:\n",
    "            results.append((False, f\"[{i}] Error: {str(e)}\"))\n",
    "\n",
    "    return results"
   ]
  },
  {
   "cell_type": "code",
   "execution_count": 8,
   "id": "5a10742a",
   "metadata": {},
   "outputs": [],
   "source": [
    "def could_be_valid_email(email):\n",
    "    try:\n",
    "        validate_email(email, check_deliverability=False)\n",
    "        return True\n",
    "    except EmailNotValidError:\n",
    "        return False\n",
    "\n",
    "def compare_strings_ignore_spaces(str1, str2):\n",
    "    clean1 = str1.replace(\" \", \"\")\n",
    "    clean2 = str2.replace(\" \", \"\")\n",
    "    return clean1 == clean2\n",
    "\n",
    "def william_flags(client):\n",
    "    flags = True\n",
    "    if client['passport']['first_name'] != client['account_form']['first_name']:\n",
    "        flags = False\n",
    "    if client['passport']['last_name'] != client['account_form']['last_name']:\n",
    "        flags = False\n",
    "    if client['passport']['middle_name'] != client['account_form']['middle_name']:\n",
    "        flags = False\n",
    "    if compare_strings_ignore_spaces((client['passport']['first_name']+client['passport']['middle_name']+client['passport']['last_name']), client['account_form']['name']) == False:\n",
    "        flags = False\n",
    "    if compare_strings_ignore_spaces((client['passport']['first_name']+client['passport']['middle_name']+client['passport']['last_name']), client['client_profile']['name']) == False:\n",
    "        flags = False\n",
    "    if client['passport']['gender'] != client['client_profile']['gender']:\n",
    "        flags = False\n",
    "\n",
    "    if client['passport']['passport_number'] != client['account_form']['passport_number']:\n",
    "        flags = False\n",
    "    \n",
    "    # Convert string to datetime object (adjust format if needed)\n",
    "    expiry_date = datetime.strptime(client['passport']['passport_expiry_date'], \"%Y-%m-%d\").date()\n",
    "    today = datetime.strptime(\"2021-04-10\", \"%Y-%m-%d\").date() #2025-04-1  ?\n",
    "    if expiry_date < today:\n",
    "        flags = False\n",
    "    \n",
    "    if could_be_valid_email(client['client_profile']['email_address']) == False:\n",
    "        flags = False\n",
    "    if client['account_form']['email_address'] != client['client_profile']['email_address']:\n",
    "        flags = False   \n",
    "    if client['account_form']['phone_number'] != client['client_profile']['phone_number']:\n",
    "        flags = False \n",
    "    passport_birth_date = datetime.strptime(client['passport']['birth_date'], \"%Y-%m-%d\").date()\n",
    "    client_birth_date = datetime.strptime(client['client_profile']['birth_date'], \"%Y-%m-%d\").date()\n",
    "    passport_issued_date = datetime.strptime(client['passport']['passport_issue_date'], \"%Y-%m-%d\").date()\n",
    "    client_issued_date = datetime.strptime(client['client_profile']['passport_issue_date'], \"%Y-%m-%d\").date()\n",
    "    passport_expiry_date = datetime.strptime(client['passport']['passport_expiry_date'], \"%Y-%m-%d\").date()\n",
    "    client_expiry_date = datetime.strptime(client['client_profile']['passport_expiry_date'], \"%Y-%m-%d\").date()\n",
    "    if passport_expiry_date < passport_issued_date:\n",
    "        flags = False\n",
    "    if passport_birth_date != client_birth_date:\n",
    "        flags = False\n",
    "    if passport_issued_date != client_issued_date:\n",
    "        flags = False\n",
    "    if passport_expiry_date != client_expiry_date:\n",
    "        flags = False\n",
    "    if passport_issued_date < passport_birth_date:\n",
    "        flags = False\n",
    "    return flags"
   ]
  },
  {
   "cell_type": "code",
   "execution_count": 9,
   "id": "4bd296e2",
   "metadata": {},
   "outputs": [],
   "source": [
    "def mrz_check(client):\n",
    "    flags = True\n",
    "    if (flags == True) and (client['passport']['last_name'].upper() not in client['passport']['passport_mrz'][0] or client['passport']['first_name'].upper() not in client['passport']['passport_mrz'][0] or client['passport']['middle_name'].upper() not in client['passport']['passport_mrz'][0] or client['passport']['country_code'].upper() not in client['passport']['passport_mrz'][0]):\n",
    "        flags = False\n",
    "    if (flags == True) and ((len(client['passport']['middle_name']) == 0) and not (client['passport']['passport_mrz'][0].index(client['passport']['country_code'].upper()) < client['passport']['passport_mrz'][0].index(client['passport']['last_name'].upper()))): #no middle name\n",
    "        flags = False\n",
    "    if (flags == True) and ((len(client['passport']['middle_name']) != 0) and not (client['passport']['passport_mrz'][0].index(client['passport']['country_code'].upper()) < client['passport']['passport_mrz'][0].index(client['passport']['last_name'].upper()) < client['passport']['passport_mrz'][0].index(client['passport']['middle_name'].upper()))):\n",
    "        flags = False\n",
    "    if (flags == True) and (client['passport']['passport_number']+client['passport']['country_code']+client['passport']['birth_date'].replace('-','')[2:] not in client['passport']['passport_mrz'][1]):\n",
    "        flags = False\n",
    "    return flags"
   ]
  },
  {
   "cell_type": "code",
   "execution_count": 10,
   "id": "d765b44f",
   "metadata": {},
   "outputs": [],
   "source": [
    "def currency_match(client):\n",
    "    flags = True\n",
    "    if client['account_form']['currency'] != client['client_profile']['currency']:\n",
    "        flags = False\n",
    "    return flags"
   ]
  },
  {
   "cell_type": "code",
   "execution_count": 11,
   "id": "2f8923f7",
   "metadata": {},
   "outputs": [],
   "source": [
    "def domicile_validator(client):\n",
    "    \"\"\"\n",
    "    Validates if the country of domicile in client profile corresponds to the country of domicile in account form\n",
    "    \"\"\"\n",
    "    return client['account_form']['country_of_domicile'] == client['client_profile']['country_of_domicile']\n",
    "\n",
    "def address_validator(client):\n",
    "    \"\"\"\n",
    "    Validates if the address in client profile corresponds to the address in account form\n",
    "    \"\"\"\n",
    "    return client['account_form']['address'] == client['client_profile']['address']\n",
    "\n",
    "_nomi_cache = {}\n",
    "\n",
    "def get_country_code(country_name):\n",
    "    \"\"\"\n",
    "    Convert a full country name (e.g., 'Spain') to ISO Alpha-2 code (e.g., 'ES').\n",
    "\n",
    "    Returns:\n",
    "        str or None: ISO Alpha-2 code or None if not found.\n",
    "    \"\"\"\n",
    "    try:\n",
    "        return pycountry.countries.lookup(country_name).alpha_2\n",
    "    except LookupError:\n",
    "        return None\n",
    "\n",
    "def get_nomi_instance(country_code):\n",
    "    \"\"\"\n",
    "    Return a cached pgeocode.Nominatim instance for the given country.\n",
    "    \"\"\"\n",
    "    if country_code not in _nomi_cache:\n",
    "        _nomi_cache[country_code] = pgeocode.Nominatim(country_code)\n",
    "    return _nomi_cache[country_code]\n",
    "\n",
    "def validate_postal_code_for_client(client):\n",
    "    \"\"\"\n",
    "    Validates if the postal code exists in the provided city and country.\n",
    "\n",
    "    Parameters:\n",
    "        client (dict): a client info.\n",
    "\n",
    "    Returns:\n",
    "        bool: True if postal code matches the city in any listed country, else False.\n",
    "    \"\"\"\n",
    "\n",
    "    # client_profile (dict): Must include 'address' and 'country_of_domicile'.\n",
    "    client_profile = client['client_profile']\n",
    "    country_names = [name.strip() for name in client_profile.get('country_of_domicile', '').split(',')]\n",
    "    address = client_profile.get('address', {})\n",
    "    city = address.get('city', '').lower()\n",
    "    postal_code = address.get('postal code', '')\n",
    "\n",
    "    for country_name in country_names:\n",
    "        country_code = get_country_code(country_name)\n",
    "        if not country_code:\n",
    "            continue  # Skip invalid countries\n",
    "\n",
    "        nomi = get_nomi_instance(country_code)\n",
    "        postal_info = nomi.query_postal_code(postal_code)['postal_code']\n",
    "\n",
    "        if postal_info is None:\n",
    "            continue\n",
    "\n",
    "        # matched_cities = [c.strip().lower() for c in postal_info.place_name.split(',')]\n",
    "        if postal_info == postal_code:\n",
    "            return True  # Valid match\n",
    "\n",
    "    return False  # No match found\n"
   ]
  },
  {
   "cell_type": "code",
   "execution_count": 12,
   "id": "672166c5",
   "metadata": {},
   "outputs": [],
   "source": [
    "def check_age(client):\n",
    "    try:\n",
    "        birth_date = datetime.strptime(client['client_profile']['birth_date'], \"%Y-%m-%d\")\n",
    "        age = (datetime.now()-timedelta(5) - birth_date).days // 365\n",
    "        return age >=18\n",
    "    except ValueError:\n",
    "        print(\"Invalid date format. Use YYYY-MM-DD.\")\n",
    "        return None"
   ]
  },
  {
   "cell_type": "code",
   "execution_count": 13,
   "id": "41f24c1e",
   "metadata": {},
   "outputs": [],
   "source": [
    "def check_higher_education(client):\n",
    "    try:\n",
    "        if client['client_profile']['higher_education'] is None or len(client['client_profile']['higher_education']) == 0:\n",
    "            return True\n",
    "        else:\n",
    "            birth_date = datetime.strptime(client['client_profile']['birth_date'], \"%Y-%m-%d\")\n",
    "            if client['client_profile']['higher_education'][0]['graduation_year'] > client['client_profile']['secondary_school']['graduation_year'] and client['client_profile']['higher_education'][0]['graduation_year'] - int(birth_date.year) >17:\n",
    "                return True\n",
    "            else:\n",
    "                return False\n",
    "    except ValueError:\n",
    "        print(\"Invalid date format. Use YYYY-MM-DD.\")\n",
    "        return False"
   ]
  },
  {
   "cell_type": "code",
   "execution_count": 14,
   "id": "91181e8f",
   "metadata": {},
   "outputs": [],
   "source": [
    "def check_employment_history(client):\n",
    "    try:\n",
    "        if client['client_profile']['employment_history'] is None or len(client['client_profile']['employment_history']) == 0:\n",
    "            return True\n",
    "        else:\n",
    "            birth_date = datetime.strptime(client['client_profile']['birth_date'], \"%Y-%m-%d\")\n",
    "            if client['client_profile']['employment_history'][0]['start_year']  - int(birth_date.year) >16:\n",
    "                return True\n",
    "            else:\n",
    "                return False\n",
    "    except ValueError:\n",
    "        print(\"Invalid date format. Use YYYY-MM-DD.\")\n",
    "        return False"
   ]
  },
  {
   "cell_type": "code",
   "execution_count": 15,
   "id": "ce79efcd",
   "metadata": {},
   "outputs": [],
   "source": [
    "def check_gender_not_null(client):\n",
    "    if client[\"passport\"][\"gender\"] is None or client[\"passport\"][\"gender\"] == \"\":\n",
    "        return False\n",
    "    return True\n",
    "\n",
    "def check_mandate_not_null(client):\n",
    "    if client[\"client_profile\"][\"type_of_mandate\"] is None or client[\"client_profile\"][\"type_of_mandate\"] == \"\":\n",
    "        return False\n",
    "    return True"
   ]
  },
  {
   "cell_type": "code",
   "execution_count": 16,
   "id": "7bad84b4",
   "metadata": {},
   "outputs": [],
   "source": [
    "def check_empty_risk_profile(client):\n",
    "    if client[\"client_profile\"][\"investment_risk_profile\"] is None or client[\"client_profile\"][\"investment_risk_profile\"] == \"\":\n",
    "        return False\n",
    "    return True"
   ]
  },
  {
   "cell_type": "code",
   "execution_count": 17,
   "id": "fa6028d0",
   "metadata": {},
   "outputs": [],
   "source": [
    "def check_properties_sum_to_aum(client):\n",
    "    try:\n",
    "        if client[\"client_profile\"][\"real_estate_details\"] is None or len(client[\"client_profile\"][\"real_estate_details\"]) == 0 and client[\"client_profile\"][\"aum\"][\"real_estate_value\"]>0:\n",
    "            return False\n",
    "        else:\n",
    "            value = [prop[\"property value\"] for prop in client[\"client_profile\"][\"real_estate_details\"]]\n",
    "            value = sum(value)\n",
    "            if value == client[\"client_profile\"][\"aum\"][\"real_estate_value\"]:\n",
    "                return True\n",
    "            else:\n",
    "                return False\n",
    "    except ValueError:\n",
    "        print(\"Invalid date format. Use YYYY-MM-DD.\")\n",
    "        return False"
   ]
  },
  {
   "cell_type": "markdown",
   "id": "3eaca191",
   "metadata": {},
   "source": [
    "# 4- Flag the dataset"
   ]
  },
  {
   "cell_type": "code",
   "execution_count": 18,
   "id": "936d3856",
   "metadata": {},
   "outputs": [],
   "source": [
    "flags_preds = []\n",
    "\n",
    "for client in clients:\n",
    "    flags = True\n",
    "    if not check_multiple_country_consistency(client[\"passport\"][\"country_code\"],client[\"passport\"][\"country\"],client[\"passport\"][\"nationality\"]) or not is_high_school_graduation_year_valid(client['client_profile']['secondary_school']['graduation_year'], client['client_profile']['birth_date']) or not validate_postal_code_for_client(client) or not domicile_validator(client) or not address_validator(client) or not currency_match(client) or not mrz_check(client) or not william_flags(client) or not check_age(client) or not check_higher_education(client) or not check_employment_history(client) or not check_gender_not_null(client) or not check_empty_risk_profile(client) or not check_properties_sum_to_aum(client):\n",
    "        flags = False\n",
    "    flags_preds.append(flags)"
   ]
  },
  {
   "cell_type": "code",
   "execution_count": 19,
   "id": "22eb37eb",
   "metadata": {},
   "outputs": [],
   "source": [
    "client_labels = []\n",
    "for client in clients:\n",
    "    if client['label']['label'] == 'Reject':\n",
    "        client_labels.append(False)\n",
    "    elif client['label']['label'] == 'Accept':\n",
    "        client_labels.append(True)"
   ]
  },
  {
   "cell_type": "markdown",
   "id": "c3f8df4d",
   "metadata": {},
   "source": [
    "# 5- Reducing training to mistakes"
   ]
  },
  {
   "cell_type": "code",
   "execution_count": 20,
   "id": "bdaa8966",
   "metadata": {},
   "outputs": [
    {
     "name": "stdout",
     "output_type": "stream",
     "text": [
      "Remaining indexes length:  6404\n"
     ]
    }
   ],
   "source": [
    "remaining_indexes = []\n",
    "for i in range(len(flags_preds)):\n",
    "    if flags_preds[i] != client_labels[i] or client_labels[i] == flags_preds[i] == True:\n",
    "        remaining_indexes.append(i)\n",
    "print(\"Remaining indexes length: \", len(remaining_indexes))"
   ]
  },
  {
   "cell_type": "code",
   "execution_count": 21,
   "id": "bdc31275",
   "metadata": {},
   "outputs": [],
   "source": [
    "#Only select the wrong indexes\n",
    "remaining_clients = [clients[j] for j in remaining_indexes]"
   ]
  },
  {
   "cell_type": "code",
   "execution_count": 22,
   "id": "2b8f63da",
   "metadata": {},
   "outputs": [],
   "source": [
    "#save the remaining clients to a new file\n",
    "import pickle\n",
    "with open(\"remaining_clients.pkl\", \"wb\") as f:\n",
    "    pickle.dump(remaining_clients, f)"
   ]
  },
  {
   "cell_type": "markdown",
   "id": "23320cd4",
   "metadata": {},
   "source": [
    "#### 5.5 Adding more flags"
   ]
  },
  {
   "cell_type": "code",
   "execution_count": 66,
   "id": "f0638bca",
   "metadata": {},
   "outputs": [],
   "source": [
    "client_labels1 = []\n",
    "for clients in remaining_clients:\n",
    "    if clients['label']['label'] == 'Reject':\n",
    "        client_labels1.append(False)\n",
    "    elif clients['label']['label'] == 'Accept':\n",
    "        client_labels1.append(True)\n",
    "\n",
    "def check_client_labels(clients, flags):\n",
    "    if clients['label']['label'] == 'Reject' and flags == False:\n",
    "        return 1\n",
    "    elif clients['label']['label'] == 'Accept' and flags == True:\n",
    "        return 1\n",
    "    elif clients['label']['label'] == 'Accept' and flags == False:\n",
    "        print(\"false negative\")\n",
    "        return 0\n",
    "    return 0\n",
    "\n",
    "flags_preds1 = []       \n",
    "for client in remaining_clients:\n",
    "    flags = True\n",
    "\n",
    "    # inheritance details missing\n",
    "    if client['client_profile']['aum']['inheritance'] != 0:\n",
    "        for key, value in client['client_profile']['inheritance_details'].items():\n",
    "            if value == '':\n",
    "                flags = False\n",
    "\n",
    "    # passport number missing in client_profile\n",
    "    if client['client_profile']['passport_number'] is None or client['client_profile']['passport_number'] == '':\n",
    "        flags = False\n",
    "\n",
    "    # phone number missing in client_profile\n",
    "    if client['client_profile']['phone_number'] is None or client['client_profile']['phone_number'] == '':\n",
    "        flags = False\n",
    "\n",
    "    # any address info missing in client_profile\n",
    "    for key, value in client['client_profile']['address'].items():\n",
    "        if value is None or value == '':\n",
    "            flags = False\n",
    "\n",
    "    # any employment history missing in client_profile\n",
    "    if client['client_profile']['employment_history'] != []:\n",
    "        for job in client['client_profile']['employment_history']:\n",
    "            for key, value in job.items():\n",
    "                if value == '':\n",
    "                    flags = False\n",
    "\n",
    "    # education background missing in client_profile (should be the check for any note missing in client_description from my point of view)\n",
    "    if client['client_description']['Education Background'] == '':\n",
    "        flags = False\n",
    "\n",
    "    # any info except middle name is missing in passport info\n",
    "    for key, value in client['passport'].items():\n",
    "        if key != 'middle_name' and value == '':   \n",
    "            flags = False\n",
    "\n",
    "    # any info except middle name and address is missing in account_form\n",
    "    for key, value in client['account_form'].items():\n",
    "        if key != 'address' and key != 'middle_name' and value == '':   \n",
    "            flags = False\n",
    "\n",
    "    # any address info missing in account_form\n",
    "    for key, value in client['account_form']['address'].items():\n",
    "        if value is None or value == '':\n",
    "            flags = False\n",
    "\n",
    "    \n",
    "\n",
    "    flags_preds1.append(flags)\n"
   ]
  },
  {
   "cell_type": "code",
   "execution_count": 67,
   "id": "d3ce485b",
   "metadata": {},
   "outputs": [
    {
     "name": "stdout",
     "output_type": "stream",
     "text": [
      "Remaining indexes length:  6285\n"
     ]
    }
   ],
   "source": [
    "remaining_indexes1 = []\n",
    "for i in range(len(flags_preds1)):\n",
    "    if flags_preds1[i] != client_labels1[i] or client_labels1[i] == flags_preds1[i] == True:\n",
    "        remaining_indexes1.append(i)\n",
    "print(\"Remaining indexes length: \", len(remaining_indexes1))"
   ]
  },
  {
   "cell_type": "code",
   "execution_count": 68,
   "id": "e020c150",
   "metadata": {},
   "outputs": [],
   "source": [
    "remaining_clients1 = [remaining_clients[j] for j in remaining_indexes1]"
   ]
  },
  {
   "cell_type": "code",
   "execution_count": 69,
   "id": "a6fabc20",
   "metadata": {},
   "outputs": [],
   "source": [
    "#save the remaining clients to a new file\n",
    "import pickle\n",
    "with open(\"remaining_clients1.pkl\", \"wb\") as f:\n",
    "    pickle.dump(remaining_clients1, f)"
   ]
  },
  {
   "cell_type": "code",
   "execution_count": 72,
   "id": "81e9080f",
   "metadata": {},
   "outputs": [
    {
     "data": {
      "text/plain": [
       "119"
      ]
     },
     "execution_count": 72,
     "metadata": {},
     "output_type": "execute_result"
    }
   ],
   "source": [
    "# sanity check\n",
    "removed_clients = [i for i in remaining_clients if i not in remaining_clients1]\n",
    "len(removed_clients)"
   ]
  },
  {
   "cell_type": "code",
   "execution_count": 74,
   "id": "51ed51ea",
   "metadata": {},
   "outputs": [],
   "source": [
    "for client in removed_clients:\n",
    "    if client['label']['label'] != 'Reject':\n",
    "        print(client)"
   ]
  },
  {
   "cell_type": "markdown",
   "id": "e75ae94d",
   "metadata": {},
   "source": [
    "# 6- Encode Data"
   ]
  },
  {
   "cell_type": "code",
   "execution_count": 75,
   "id": "6a968fea",
   "metadata": {},
   "outputs": [],
   "source": [
    "import pickle\n",
    "from sklearn.metrics import confusion_matrix\n",
    "import numpy as np\n",
    "import pandas as pd\n",
    "from load_updated_data import load_clients\n",
    "from sklearn.preprocessing import MultiLabelBinarizer\n",
    "from sklearn.preprocessing import LabelEncoder\n",
    "from datetime import datetime, timedelta\n",
    "from typing import List, Dict, Any, Tuple\n",
    "\n",
    "\n",
    "\n",
    "def data_to_df(full_data:list):\n",
    "    dfs = []\n",
    "    for client in full_data:\n",
    "        keep = [\n",
    "            ['gender', 'country_code', 'birth_date'],\n",
    "            ['country_of_domicile', 'nationality', 'marital_status','real_estate_details', 'investment_risk_profile',\n",
    "             'higher_education', 'employment_history', 'investment_risk_profile', 'investment_horizon', 'investment_experience',\n",
    "             'type_of_mandate', 'preferred_markets', 'currency'],\n",
    "            [],\n",
    "            [],\n",
    "            ['label']\n",
    "                ]\n",
    "        keys=client.keys()\n",
    "        res={}\n",
    "        for key, subkeys in zip(keys, keep):\n",
    "            d = {subkey: client[key][subkey] for subkey in subkeys }\n",
    "            res = res|d\n",
    "        #Convert label to 1 or 0 if accepted or rejected\n",
    "        if res['label']== 'Reject':\n",
    "            res['label'] = 0\n",
    "        elif res['label'] == 'Accept':\n",
    "            res['label'] = 1\n",
    "        dfs.append(res)\n",
    "        \n",
    "        \n",
    "    return pd.DataFrame.from_records(dfs)\n",
    "\n",
    "\n",
    "\n",
    "country_code_encoder = LabelEncoder()\n",
    "country_dom_encoder = LabelEncoder()\n",
    "marital_status_encoder = LabelEncoder()\n",
    "investment_experience_encoder = LabelEncoder()\n",
    "currency_encoder = LabelEncoder()\n",
    "gender_encoder = LabelEncoder()\n",
    "nationality_encoder = LabelEncoder()\n",
    "irp_encoder = LabelEncoder()\n",
    "ih_encoder = LabelEncoder()\n",
    "mandate_encoder = LabelEncoder()\n",
    "pref_markets_encoder=MultiLabelBinarizer()\n",
    "\n",
    "def encode_gender(df:pd.DataFrame,encoder:LabelEncoder)-> pd.DataFrame:\n",
    "    encoder.fit(df['gender'])\n",
    "    df['gender'] = encoder.transform(df['gender'])\n",
    "    return df\n",
    "\n",
    "def encode_nationality(df:pd.DataFrame,encoder:LabelEncoder)-> pd.DataFrame:\n",
    "    encoder.fit(df['nationality'])\n",
    "    df['nationality'] = encoder.transform(df['nationality'])\n",
    "    return df\n",
    "\n",
    "def encode_irp(df:pd.DataFrame,encoder:LabelEncoder)-> pd.DataFrame:\n",
    "    encoder.fit(df['investment_risk_profile'])\n",
    "    df['investment_risk_profile'] = encoder.transform(df['investment_risk_profile'])\n",
    "    return df\n",
    "\n",
    "def encode_ih(df:pd.DataFrame,encoder:LabelEncoder)-> pd.DataFrame:\n",
    "    encoder.fit(df['investment_horizon'])\n",
    "    df['investment_horizon'] = encoder.transform(df['investment_horizon'])\n",
    "    return df\n",
    "\n",
    "def encode_mandate(df:pd.DataFrame,encoder:LabelEncoder)-> pd.DataFrame:\n",
    "    encoder.fit(df['type_of_mandate'])\n",
    "    df['type_of_mandate'] = encoder.transform(df['type_of_mandate'])\n",
    "    return df\n",
    "\n",
    "def encode_pref_markets(df:pd.DataFrame,encoder:MultiLabelBinarizer)-> pd.DataFrame:\n",
    "    encoded=encoder.fit_transform(df['preferred_markets'].to_list())\n",
    "    temp_df = pd.DataFrame.from_records(encoded)\n",
    "    temp_df.rename(columns = {i: f'pref_markets_{i}' for i in range(temp_df.shape[1])},inplace=True)\n",
    "    return pd.concat([df,temp_df],axis=1)\n",
    "\n",
    "def encode_country_code(df: pd.DataFrame,encoder:LabelEncoder) -> pd.DataFrame:\n",
    "    encoder.fit(df['country_code'])\n",
    "    df['country_code'] = encoder.transform(df['country_code'])\n",
    "    return df\n",
    "\n",
    "def get_age(birth_date: str) -> int:\n",
    "    try:\n",
    "        birth_date = datetime.strptime(birth_date, \"%Y-%m-%d\")\n",
    "        age = (datetime.now()-timedelta(5) - birth_date).days // 365\n",
    "        return age\n",
    "    except ValueError:\n",
    "        print(\"Invalid date format. Use YYYY-MM-DD.\")\n",
    "        return None\n",
    "\n",
    "def encode_age(df: pd.DataFrame) -> pd.DataFrame:\n",
    "    df['age'] = df['birth_date'].apply(get_age)\n",
    "    return df\n",
    "\n",
    "def encode_country_of_domicile(df: pd.DataFrame,encoder:LabelEncoder) -> pd.DataFrame:\n",
    "    encoder.fit(df['country_of_domicile'])\n",
    "    df['country_of_domicile'] = encoder.transform(df['country_of_domicile'])\n",
    "    return df\n",
    "\n",
    "def encode_marital_status(df: pd.DataFrame,encoder:LabelEncoder) -> pd.DataFrame:\n",
    "    encoder.fit(df['marital_status'])\n",
    "    df['marital_status'] = encoder.transform(df['marital_status'])\n",
    "    return df\n",
    "\n",
    "def encode_investment_experience(df: pd.DataFrame,encoder:LabelEncoder) -> pd.DataFrame:\n",
    "    encoder.fit(df['investment_experience'])\n",
    "    df['investment_experience'] = encoder.transform(df['investment_experience'])\n",
    "    return df\n",
    "\n",
    "def encode_currency(df: pd.DataFrame,encoder:LabelEncoder) -> pd.DataFrame:\n",
    "    encoder.fit(df['currency'])\n",
    "    df['currency'] = encoder.transform(df['currency'])\n",
    "    return df\n",
    "\n",
    "def get_higher_ed(higher_ed: list) -> int:\n",
    "    if higher_ed is None or len(higher_ed) == 0:\n",
    "        return 0\n",
    "    else:\n",
    "        return 1\n",
    "\n",
    "def encode_higher_education(df: pd.DataFrame) -> pd.DataFrame:\n",
    "    df['higher_education'] = df['higher_education'].apply(get_higher_ed)\n",
    "    return df\n",
    "\n",
    "def encode(x:pd.DataFrame)-> pd.DataFrame:\n",
    "    x= encode_gender(x,gender_encoder)\n",
    "    x = encode_nationality(x,nationality_encoder)\n",
    "    x = encode_irp(x,irp_encoder)\n",
    "    x = encode_ih(x, ih_encoder)\n",
    "    x = encode_mandate(x,mandate_encoder)\n",
    "    x = encode_pref_markets(x, pref_markets_encoder)\n",
    "    x = encode_country_code(x,country_code_encoder)\n",
    "    x = encode_age(x)\n",
    "    x = encode_country_of_domicile(x,country_dom_encoder)\n",
    "    x = encode_marital_status(x,marital_status_encoder)\n",
    "    x = encode_investment_experience(x, investment_experience_encoder)\n",
    "    x = encode_currency(x,currency_encoder)\n",
    "    x = encode_higher_education(x)\n",
    "    return x\n",
    "\n",
    "\n",
    "def calculate_effective_experience(jobs: List[Tuple[int, int]]) -> int:\n",
    "    \"\"\"\n",
    "    Calculates effective work experience in years, avoiding double-counting overlapping years.\n",
    "\n",
    "    Args:\n",
    "        jobs: List of (start_year, end_year) tuples. None as end_year means the job is current.\n",
    "\n",
    "    Returns:\n",
    "        Total number of unique working years across all jobs.\n",
    "    \"\"\"\n",
    "    worked_years = set()\n",
    "    for start, end in jobs:\n",
    "        if start is None:\n",
    "            continue\n",
    "        end = end if end is not None else 2025\n",
    "        worked_years.update(range(start, end))\n",
    "    return len(worked_years)\n",
    "\n",
    "def extract_numeric_features(full_data: List[Dict[str, Any]]) -> pd.DataFrame:\n",
    "    \"\"\"\n",
    "    Extracts numeric features from a list of client dictionaries.\n",
    "\n",
    "    Args:\n",
    "        full_data: List of dictionaries, each representing a client with nested data.\n",
    "\n",
    "    Returns:\n",
    "        A pandas DataFrame containing engineered numeric features.\n",
    "    \"\"\"\n",
    "\n",
    "    aum_vec = [np.sum(list(client['client_profile']['aum'].values())) for client in full_data]\n",
    "    property_value_vec = [client['client_profile']['aum']['real_estate_value'] for client in full_data]\n",
    "    property_count_vec = [len(client['client_profile']['real_estate_details']) for client in full_data]\n",
    "    inheritance_vec = [client['client_profile']['aum']['inheritance'] for client in full_data]\n",
    "    savings_vec = [client['client_profile']['aum']['savings'] for client in full_data]\n",
    "    job_count_vec = [len(client['client_profile']['employment_history']) for client in full_data]\n",
    "\n",
    "    # Compute property-to-cash ratio with zero-division handling\n",
    "    property_to_cash_vec = [\n",
    "        prop_value / (total_value - prop_value) if (total_value - prop_value) != 0 else -float('inf')\n",
    "        for prop_value, total_value in zip(property_value_vec, aum_vec)\n",
    "    ]\n",
    "    max_ratio = np.max(property_to_cash_vec)\n",
    "    property_to_cash_vec = [max_ratio if value == -float(\"inf\") else value for value in property_to_cash_vec]\n",
    "\n",
    "    # Inheritance / (inheritance + savings), safe against zero-division\n",
    "    inheritance_to_cash_vec = [\n",
    "        inheritance / (inheritance + saving) if (inheritance + saving) != 0 else 0\n",
    "        for inheritance, saving in zip(inheritance_vec, savings_vec)\n",
    "    ]\n",
    "\n",
    "    # Salary & experience metrics\n",
    "    current_salary_vec = []\n",
    "    max_salary_vec = []\n",
    "    total_work_experience_vec = []\n",
    "    effective_work_experience_vec = []\n",
    "\n",
    "    for client in full_data:\n",
    "        emp_hist = client['client_profile']['employment_history']\n",
    "        salary = 0\n",
    "        max_salary = 0\n",
    "\n",
    "        if len(emp_hist) == 0:\n",
    "            total_work_experience = 0\n",
    "            effective_work_experience = 0\n",
    "\n",
    "        else:\n",
    "            year_history = []\n",
    "            min_start = np.inf\n",
    "            max_end = -np.inf\n",
    "            for job in emp_hist:\n",
    "                if max_salary < job['salary']:\n",
    "                    max_salary = job['salary']\n",
    "\n",
    "                start, end = job['start_year'], job['end_year']\n",
    "                year_history.append((start, end))\n",
    "\n",
    "                if end is None:\n",
    "                    salary += job['salary']\n",
    "                    end = 2025\n",
    "\n",
    "                if start < min_start:\n",
    "                    min_start = start\n",
    "                if end > max_end:\n",
    "                    max_end = end\n",
    "\n",
    "            total_work_experience = max_end - min_start\n",
    "            effective_work_experience = calculate_effective_experience(year_history)\n",
    "\n",
    "        total_work_experience_vec.append(total_work_experience)\n",
    "        effective_work_experience_vec.append(effective_work_experience)\n",
    "        current_salary_vec.append(salary)\n",
    "        max_salary_vec.append(max_salary)\n",
    "\n",
    "    # Savings per active work year\n",
    "    saving_per_annum_vec = [\n",
    "        saving / work_exp if work_exp != 0 else saving\n",
    "        for saving, work_exp in zip(savings_vec, effective_work_experience_vec)\n",
    "    ]\n",
    "\n",
    "    # Current salary compared to max salary seen in career\n",
    "    salary_to_max_salary_vec = [\n",
    "        salary / max_salary if max_salary != 0 else 0\n",
    "        for salary, max_salary in zip(current_salary_vec, max_salary_vec)\n",
    "    ]\n",
    "\n",
    "    # Construct final DataFrame\n",
    "    df_numeric = pd.DataFrame({\n",
    "        'aum': aum_vec,\n",
    "        'property_value': property_value_vec,\n",
    "        'num_properties': property_count_vec,\n",
    "        'inheritance_value': inheritance_vec,\n",
    "        'savings_value': savings_vec,\n",
    "        'num_jobs': job_count_vec,\n",
    "        'current_salary': current_salary_vec,\n",
    "        'max_salary': max_salary_vec,\n",
    "        'property_to_cash_ratio': property_to_cash_vec,\n",
    "        'inheritance_to_cash_ratio': inheritance_to_cash_vec,\n",
    "        'total_work_experience': total_work_experience_vec,\n",
    "        'effective_work_experience': effective_work_experience_vec,\n",
    "        'saving_per_annum': saving_per_annum_vec,\n",
    "        'salary_to_max_salary_ratio': salary_to_max_salary_vec\n",
    "    })\n",
    "\n",
    "    return df_numeric\n",
    "\n",
    "def data_for_ML(data:list) -> pd.DataFrame:\n",
    "    x = extract_numeric_features(data)\n",
    "    y = encode(data_to_df(data))\n",
    "    return pd.concat([y,x],axis=1)"
   ]
  },
  {
   "cell_type": "code",
   "execution_count": 76,
   "id": "ef7c102e",
   "metadata": {},
   "outputs": [],
   "source": [
    "remaining_clients = load_clients(\"remaining_clients1.pkl\")\n",
    "remaining_clients_df = data_for_ML(remaining_clients)"
   ]
  },
  {
   "cell_type": "code",
   "execution_count": 115,
   "id": "9a27dd40",
   "metadata": {},
   "outputs": [],
   "source": [
    "# 0 - CHF, 1 - DKK, 2 - EUR\n",
    "chf_to_eur = 1.06\n",
    "dkk_to_eur = 0.134\n",
    "\n",
    "money_features = ['aum', 'property_value', 'inheritance_value', 'savings_value', 'current_salary', 'max_salary', 'saving_per_annum']\n",
    "remaining_clients_df.loc[remaining_clients_df['currency'] == 0, money_features] *= chf_to_eur\n",
    "remaining_clients_df.loc[remaining_clients_df['currency'] == 1, money_features] *= dkk_to_eur"
   ]
  },
  {
   "cell_type": "code",
   "execution_count": 107,
   "id": "60f2f200",
   "metadata": {},
   "outputs": [
    {
     "data": {
      "text/html": [
       "<div>\n",
       "<style scoped>\n",
       "    .dataframe tbody tr th:only-of-type {\n",
       "        vertical-align: middle;\n",
       "    }\n",
       "\n",
       "    .dataframe tbody tr th {\n",
       "        vertical-align: top;\n",
       "    }\n",
       "\n",
       "    .dataframe thead th {\n",
       "        text-align: right;\n",
       "    }\n",
       "</style>\n",
       "<table border=\"1\" class=\"dataframe\">\n",
       "  <thead>\n",
       "    <tr style=\"text-align: right;\">\n",
       "      <th></th>\n",
       "      <th>age</th>\n",
       "      <th>aum</th>\n",
       "      <th>property_value</th>\n",
       "      <th>num_properties</th>\n",
       "      <th>inheritance_value</th>\n",
       "      <th>savings_value</th>\n",
       "      <th>num_jobs</th>\n",
       "      <th>current_salary</th>\n",
       "      <th>max_salary</th>\n",
       "      <th>property_to_cash_ratio</th>\n",
       "      <th>inheritance_to_cash_ratio</th>\n",
       "      <th>total_work_experience</th>\n",
       "      <th>effective_work_experience</th>\n",
       "      <th>saving_per_annum</th>\n",
       "      <th>salary_to_max_salary_ratio</th>\n",
       "    </tr>\n",
       "  </thead>\n",
       "  <tbody>\n",
       "    <tr>\n",
       "      <th>0</th>\n",
       "      <td>22</td>\n",
       "      <td>13140000</td>\n",
       "      <td>0</td>\n",
       "      <td>0</td>\n",
       "      <td>13140000</td>\n",
       "      <td>0</td>\n",
       "      <td>0</td>\n",
       "      <td>0</td>\n",
       "      <td>0</td>\n",
       "      <td>0.000000</td>\n",
       "      <td>1.000000</td>\n",
       "      <td>0</td>\n",
       "      <td>0</td>\n",
       "      <td>0.000000</td>\n",
       "      <td>0.0</td>\n",
       "    </tr>\n",
       "    <tr>\n",
       "      <th>1</th>\n",
       "      <td>27</td>\n",
       "      <td>2440000</td>\n",
       "      <td>0</td>\n",
       "      <td>0</td>\n",
       "      <td>2420000</td>\n",
       "      <td>20000</td>\n",
       "      <td>1</td>\n",
       "      <td>45000</td>\n",
       "      <td>45000</td>\n",
       "      <td>0.000000</td>\n",
       "      <td>0.991803</td>\n",
       "      <td>3</td>\n",
       "      <td>3</td>\n",
       "      <td>6666.666667</td>\n",
       "      <td>1.0</td>\n",
       "    </tr>\n",
       "    <tr>\n",
       "      <th>2</th>\n",
       "      <td>27</td>\n",
       "      <td>1370000</td>\n",
       "      <td>0</td>\n",
       "      <td>0</td>\n",
       "      <td>1350000</td>\n",
       "      <td>20000</td>\n",
       "      <td>1</td>\n",
       "      <td>43000</td>\n",
       "      <td>43000</td>\n",
       "      <td>0.000000</td>\n",
       "      <td>0.985401</td>\n",
       "      <td>3</td>\n",
       "      <td>3</td>\n",
       "      <td>6666.666667</td>\n",
       "      <td>1.0</td>\n",
       "    </tr>\n",
       "    <tr>\n",
       "      <th>3</th>\n",
       "      <td>59</td>\n",
       "      <td>6965000</td>\n",
       "      <td>2825000</td>\n",
       "      <td>2</td>\n",
       "      <td>2690000</td>\n",
       "      <td>1450000</td>\n",
       "      <td>5</td>\n",
       "      <td>821000</td>\n",
       "      <td>821000</td>\n",
       "      <td>0.682367</td>\n",
       "      <td>0.649758</td>\n",
       "      <td>35</td>\n",
       "      <td>29</td>\n",
       "      <td>50000.000000</td>\n",
       "      <td>1.0</td>\n",
       "    </tr>\n",
       "    <tr>\n",
       "      <th>4</th>\n",
       "      <td>58</td>\n",
       "      <td>4050000</td>\n",
       "      <td>1790000</td>\n",
       "      <td>1</td>\n",
       "      <td>670000</td>\n",
       "      <td>1590000</td>\n",
       "      <td>5</td>\n",
       "      <td>929000</td>\n",
       "      <td>929000</td>\n",
       "      <td>0.792035</td>\n",
       "      <td>0.296460</td>\n",
       "      <td>34</td>\n",
       "      <td>31</td>\n",
       "      <td>51290.322581</td>\n",
       "      <td>1.0</td>\n",
       "    </tr>\n",
       "  </tbody>\n",
       "</table>\n",
       "</div>"
      ],
      "text/plain": [
       "   age       aum  property_value  num_properties  inheritance_value  \\\n",
       "0   22  13140000               0               0           13140000   \n",
       "1   27   2440000               0               0            2420000   \n",
       "2   27   1370000               0               0            1350000   \n",
       "3   59   6965000         2825000               2            2690000   \n",
       "4   58   4050000         1790000               1             670000   \n",
       "\n",
       "   savings_value  num_jobs  current_salary  max_salary  \\\n",
       "0              0         0               0           0   \n",
       "1          20000         1           45000       45000   \n",
       "2          20000         1           43000       43000   \n",
       "3        1450000         5          821000      821000   \n",
       "4        1590000         5          929000      929000   \n",
       "\n",
       "   property_to_cash_ratio  inheritance_to_cash_ratio  total_work_experience  \\\n",
       "0                0.000000                   1.000000                      0   \n",
       "1                0.000000                   0.991803                      3   \n",
       "2                0.000000                   0.985401                      3   \n",
       "3                0.682367                   0.649758                     35   \n",
       "4                0.792035                   0.296460                     34   \n",
       "\n",
       "   effective_work_experience  saving_per_annum  salary_to_max_salary_ratio  \n",
       "0                          0          0.000000                         0.0  \n",
       "1                          3       6666.666667                         1.0  \n",
       "2                          3       6666.666667                         1.0  \n",
       "3                         29      50000.000000                         1.0  \n",
       "4                         31      51290.322581                         1.0  "
      ]
     },
     "execution_count": 107,
     "metadata": {},
     "output_type": "execute_result"
    }
   ],
   "source": [
    "remaining_clients_df[['age', 'aum', 'property_value', 'num_properties',\n",
    "       'inheritance_value', 'savings_value', 'num_jobs', 'current_salary',\n",
    "       'max_salary', 'property_to_cash_ratio', 'inheritance_to_cash_ratio',\n",
    "       'total_work_experience', 'effective_work_experience',\n",
    "       'saving_per_annum', 'salary_to_max_salary_ratio']].head()"
   ]
  },
  {
   "cell_type": "code",
   "execution_count": 127,
   "id": "60b5994f",
   "metadata": {},
   "outputs": [
    {
     "data": {
      "text/plain": [
       "Index(['gender', 'country_code', 'birth_date', 'country_of_domicile',\n",
       "       'nationality', 'marital_status', 'real_estate_details',\n",
       "       'investment_risk_profile', 'higher_education', 'employment_history',\n",
       "       'investment_horizon', 'investment_experience', 'type_of_mandate',\n",
       "       'preferred_markets', 'currency', 'label', 'pref_markets_0',\n",
       "       'pref_markets_1', 'pref_markets_2', 'pref_markets_3', 'pref_markets_4',\n",
       "       'pref_markets_5', 'pref_markets_6', 'pref_markets_7', 'pref_markets_8',\n",
       "       'pref_markets_9', 'age', 'aum', 'property_value', 'num_properties',\n",
       "       'inheritance_value', 'savings_value', 'num_jobs', 'current_salary',\n",
       "       'max_salary', 'property_to_cash_ratio', 'inheritance_to_cash_ratio',\n",
       "       'total_work_experience', 'effective_work_experience',\n",
       "       'saving_per_annum', 'salary_to_max_salary_ratio'],\n",
       "      dtype='object')"
      ]
     },
     "execution_count": 127,
     "metadata": {},
     "output_type": "execute_result"
    }
   ],
   "source": [
    "remaining_clients_df.columns"
   ]
  },
  {
   "cell_type": "code",
   "execution_count": 129,
   "id": "9d21fc2a",
   "metadata": {},
   "outputs": [
    {
     "data": {
      "text/plain": [
       "0       1\n",
       "1       0\n",
       "2       1\n",
       "3       1\n",
       "4       0\n",
       "       ..\n",
       "6280    1\n",
       "6281    1\n",
       "6282    1\n",
       "6283    0\n",
       "6284    1\n",
       "Name: label, Length: 6285, dtype: int64"
      ]
     },
     "execution_count": 129,
     "metadata": {},
     "output_type": "execute_result"
    }
   ],
   "source": [
    "remaining_clients_df['label']"
   ]
  },
  {
   "cell_type": "code",
   "execution_count": 78,
   "id": "9265d525",
   "metadata": {},
   "outputs": [
    {
     "data": {
      "text/plain": [
       "<AxesSubplot:xlabel='salary_to_max_salary_ratio', ylabel='Density'>"
      ]
     },
     "execution_count": 78,
     "metadata": {},
     "output_type": "execute_result"
    },
    {
     "data": {
      "image/png": "[encoded data removed]",
      "text/plain": [
       "<Figure size 640x480 with 1 Axes>"
      ]
     },
     "metadata": {},
     "output_type": "display_data"
    }
   ],
   "source": [
    "import matplotlib.pyplot as plt\n",
    "import seaborn as sns\n",
    "sns.distplot(remaining_clients_df['salary_to_max_salary_ratio'])"
   ]
  },
  {
   "cell_type": "code",
   "execution_count": 79,
   "id": "6eaafb78",
   "metadata": {},
   "outputs": [
    {
     "data": {
      "text/plain": [
       "3579"
      ]
     },
     "execution_count": 79,
     "metadata": {},
     "output_type": "execute_result"
    }
   ],
   "source": [
    "np.sum(remaining_clients_df['salary_to_max_salary_ratio'] == 1)"
   ]
  },
  {
   "cell_type": "code",
   "execution_count": 80,
   "id": "8d96449e",
   "metadata": {},
   "outputs": [
    {
     "data": {
      "text/plain": [
       "2688"
      ]
     },
     "execution_count": 80,
     "metadata": {},
     "output_type": "execute_result"
    }
   ],
   "source": [
    "np.sum(remaining_clients_df['salary_to_max_salary_ratio'] == 0)"
   ]
  },
  {
   "cell_type": "code",
   "execution_count": 81,
   "id": "9143ebf9",
   "metadata": {},
   "outputs": [
    {
     "data": {
      "text/plain": [
       "(6267, (6285, 41))"
      ]
     },
     "execution_count": 81,
     "metadata": {},
     "output_type": "execute_result"
    }
   ],
   "source": [
    "2688+3579, remaining_clients_df.shape"
   ]
  },
  {
   "cell_type": "code",
   "execution_count": 34,
   "id": "6b7a8169",
   "metadata": {},
   "outputs": [
    {
     "data": {
      "text/plain": [
       "[{'start_year': 2022,\n",
       "  'end_year': None,\n",
       "  'company': 'Bayerische Staatsgemäldesammlungen',\n",
       "  'position': 'Art Dealer',\n",
       "  'salary': 45000}]"
      ]
     },
     "execution_count": 34,
     "metadata": {},
     "output_type": "execute_result"
    }
   ],
   "source": [
    "remaining_clients_df.loc[1, 'employment_history']"
   ]
  },
  {
   "cell_type": "code",
   "execution_count": 35,
   "id": "0ea095ad",
   "metadata": {},
   "outputs": [
    {
     "data": {
      "text/plain": [
       "[{'start_year': 2022,\n",
       "  'end_year': None,\n",
       "  'company': 'Van Gogh Museum',\n",
       "  'position': 'Art Dealer',\n",
       "  'salary': 43000}]"
      ]
     },
     "execution_count": 35,
     "metadata": {},
     "output_type": "execute_result"
    }
   ],
   "source": [
    "remaining_clients_df.loc[2, 'employment_history']"
   ]
  },
  {
   "cell_type": "code",
   "execution_count": 82,
   "id": "b1c5577b",
   "metadata": {},
   "outputs": [
    {
     "data": {
      "text/plain": [
       "Index(['gender', 'country_code', 'birth_date', 'country_of_domicile',\n",
       "       'nationality', 'marital_status', 'real_estate_details',\n",
       "       'investment_risk_profile', 'higher_education', 'employment_history',\n",
       "       'investment_horizon', 'investment_experience', 'type_of_mandate',\n",
       "       'preferred_markets', 'currency', 'label', 'pref_markets_0',\n",
       "       'pref_markets_1', 'pref_markets_2', 'pref_markets_3', 'pref_markets_4',\n",
       "       'pref_markets_5', 'pref_markets_6', 'pref_markets_7', 'pref_markets_8',\n",
       "       'pref_markets_9', 'age', 'aum', 'property_value', 'num_properties',\n",
       "       'inheritance_value', 'savings_value', 'num_jobs', 'current_salary',\n",
       "       'max_salary', 'property_to_cash_ratio', 'inheritance_to_cash_ratio',\n",
       "       'total_work_experience', 'effective_work_experience',\n",
       "       'saving_per_annum', 'salary_to_max_salary_ratio'],\n",
       "      dtype='object')"
      ]
     },
     "execution_count": 82,
     "metadata": {},
     "output_type": "execute_result"
    }
   ],
   "source": [
    "remaining_clients_df.columns"
   ]
  },
  {
   "cell_type": "markdown",
   "id": "e921d51f",
   "metadata": {},
   "source": [
    "# 7- Training function"
   ]
  },
  {
   "cell_type": "code",
   "execution_count": 116,
   "id": "ea4b1ef6",
   "metadata": {},
   "outputs": [],
   "source": [
    "features = ['gender', 'country_code', 'age', 'country_of_domicile',\n",
    "       'nationality', 'marital_status', 'higher_education',\n",
    "       'investment_risk_profile', 'investment_horizon',\n",
    "       'investment_experience', 'type_of_mandate',\n",
    "       'currency', 'pref_markets_0', 'pref_markets_1',\n",
    "       'pref_markets_2', 'pref_markets_3', 'pref_markets_4', 'pref_markets_5',\n",
    "       'pref_markets_6', 'pref_markets_7', 'pref_markets_8', 'pref_markets_9',\n",
    "        'aum', 'property_value', 'num_properties', \n",
    "       'savings_value', 'num_jobs', 'current_salary',\n",
    "       'property_to_cash_ratio', 'inheritance_to_cash_ratio',\n",
    "       'total_work_experience', 'effective_work_experience',\n",
    "       'saving_per_annum', 'salary_to_max_salary_ratio']\n",
    "\n",
    "target = 'label'\n",
    "\n",
    "X = remaining_clients_df[features]\n",
    "y = remaining_clients_df[target]\n",
    "\n",
    "\n",
    "X_train, X_test, y_train, y_test = train_test_split(\n",
    "    X, y, test_size=0.1, stratify=y, shuffle=True, random_state=42\n",
    ")\n",
    "\n"
   ]
  },
  {
   "cell_type": "code",
   "execution_count": 117,
   "id": "41eae7bd",
   "metadata": {},
   "outputs": [
    {
     "name": "stdout",
     "output_type": "stream",
     "text": [
      "Fitting 5 folds for each of 72 candidates, totalling 360 fits\n",
      "Best Parameters: {'depth': 6, 'iterations': 200, 'l2_leaf_reg': 3, 'learning_rate': 0.05}\n"
     ]
    }
   ],
   "source": [
    "model = CatBoostClassifier(verbose=0, random_state=42)\n",
    "\n",
    "param_grid = {\n",
    "    'depth': [2, 4, 6, 8],\n",
    "    'learning_rate': [0.01, 0.05, 0.1],\n",
    "    'iterations': [100, 200],\n",
    "    'l2_leaf_reg': [1, 3, 5],\n",
    "}\n",
    "\n",
    "cv = StratifiedKFold(n_splits=5, shuffle=True, random_state=42)\n",
    "\n",
    "grid_search = GridSearchCV(\n",
    "    model,\n",
    "    param_grid,\n",
    "    scoring='accuracy',\n",
    "    cv=cv,\n",
    "    n_jobs=-1,\n",
    "    verbose=1\n",
    ")\n",
    "\n",
    "grid_search.fit(X_train, y_train)\n",
    "\n",
    "print(\"Best Parameters:\", grid_search.best_params_)\n"
   ]
  },
  {
   "cell_type": "code",
   "execution_count": 124,
   "id": "118d605e",
   "metadata": {},
   "outputs": [
    {
     "data": {
      "text/plain": [
       "<catboost.core.CatBoostClassifier at 0x26fcb24d8e0>"
      ]
     },
     "execution_count": 124,
     "metadata": {},
     "output_type": "execute_result"
    }
   ],
   "source": [
    "best_model = CatBoostClassifier(\n",
    "    **grid_search.best_params_,\n",
    "    verbose=0,\n",
    "    random_state=42\n",
    ")\n",
    "best_model.fit(X_train, y_train)\n"
   ]
  },
  {
   "cell_type": "code",
   "execution_count": 119,
   "id": "40a49226",
   "metadata": {},
   "outputs": [
    {
     "data": {
      "application/vnd.jupyter.widget-view+json": {
       "model_id": "278460b5b34e47d29109703dad61ca40",
       "version_major": 2,
       "version_minor": 0
      },
      "text/plain": [
       "  0%|          | 0/100 [00:00<?, ?it/s]"
      ]
     },
     "metadata": {},
     "output_type": "display_data"
    },
    {
     "name": "stdout",
     "output_type": "stream",
     "text": [
      "8 attributes confirmed important: ['investment_horizon', 'total_work_experience', 'num_jobs', 'saving_per_annum', 'effective_work_experience', 'age', 'investment_risk_profile', 'marital_status']\n",
      "24 attributes confirmed unimportant: ['pref_markets_9', 'country_code', 'higher_education', 'pref_markets_7', 'inheritance_to_cash_ratio', 'property_to_cash_ratio', 'aum', 'pref_markets_3', 'num_properties', 'investment_experience', 'type_of_mandate', 'pref_markets_0', 'current_salary', 'pref_markets_1', 'pref_markets_8', 'country_of_domicile', 'pref_markets_4', 'pref_markets_6', 'nationality', 'currency', 'pref_markets_5', 'gender', 'salary_to_max_salary_ratio', 'pref_markets_2']\n",
      "2 tentative attributes remains: ['savings_value', 'property_value']\n",
      "✅ Selected Features: ['investment_horizon', 'total_work_experience', 'num_jobs', 'saving_per_annum', 'effective_work_experience', 'age', 'investment_risk_profile', 'marital_status', 'savings_value', 'property_value']\n"
     ]
    }
   ],
   "source": [
    "boruta_selector = BorutaShap(\n",
    "    model=best_model,\n",
    "    importance_measure='shap',\n",
    "    classification=True\n",
    ")\n",
    "\n",
    "boruta_selector.fit(X=X_train, y=y_train, n_trials=100, sample=False, train_or_test='test', normalize=True)\n",
    "\n",
    "# Select the important features only\n",
    "selected_features = boruta_selector.Subset().columns.tolist() + boruta_selector.tentative\n",
    "print(\"✅ Selected Features:\", selected_features)\n"
   ]
  },
  {
   "cell_type": "code",
   "execution_count": 120,
   "id": "880ed400",
   "metadata": {},
   "outputs": [
    {
     "data": {
      "text/plain": [
       "<catboost.core.CatBoostClassifier at 0x26fbc030850>"
      ]
     },
     "execution_count": 120,
     "metadata": {},
     "output_type": "execute_result"
    }
   ],
   "source": [
    "X_train_sel = X_train[selected_features]\n",
    "X_test_sel = X_test[selected_features]\n",
    "\n",
    "final_model = CatBoostClassifier(\n",
    "    **grid_search.best_params_,\n",
    "    verbose=0,\n",
    "    random_state=42\n",
    ")\n",
    "final_model.fit(X_train_sel, y_train)"
   ]
  },
  {
   "cell_type": "code",
   "execution_count": 122,
   "id": "e28d5a40",
   "metadata": {},
   "outputs": [
    {
     "name": "stdout",
     "output_type": "stream",
     "text": [
      "\n",
      "Confusion Matrix:\n",
      "[[ 19 109]\n",
      " [  1 500]]\n",
      "\n",
      "Classification Report:\n",
      "              precision    recall  f1-score   support\n",
      "\n",
      "           0       0.95      0.15      0.26       128\n",
      "           1       0.82      1.00      0.90       501\n",
      "\n",
      "    accuracy                           0.83       629\n",
      "   macro avg       0.89      0.57      0.58       629\n",
      "weighted avg       0.85      0.83      0.77       629\n",
      "\n"
     ]
    }
   ],
   "source": [
    "# ---- STEP 6: Predictions + Confusion Matrix ----\n",
    "y_pred = final_model.predict(X_test_sel)\n",
    "\n",
    "print(\"\\nConfusion Matrix:\")\n",
    "print(confusion_matrix(y_test, y_pred))\n",
    "\n",
    "print(\"\\nClassification Report:\")\n",
    "print(classification_report(y_test, y_pred))\n"
   ]
  },
  {
   "cell_type": "code",
   "execution_count": 123,
   "id": "5c1551e5",
   "metadata": {},
   "outputs": [
    {
     "data": {
      "text/plain": [
       "0.8251192368839427"
      ]
     },
     "execution_count": 123,
     "metadata": {},
     "output_type": "execute_result"
    }
   ],
   "source": [
    "519/629"
   ]
  },
  {
   "cell_type": "code",
   "execution_count": 125,
   "id": "849170e1",
   "metadata": {},
   "outputs": [
    {
     "name": "stdout",
     "output_type": "stream",
     "text": [
      "\n",
      "Confusion Matrix:\n",
      "[[ 25 103]\n",
      " [  1 500]]\n",
      "\n",
      "Classification Report:\n",
      "              precision    recall  f1-score   support\n",
      "\n",
      "           0       0.96      0.20      0.32       128\n",
      "           1       0.83      1.00      0.91       501\n",
      "\n",
      "    accuracy                           0.83       629\n",
      "   macro avg       0.90      0.60      0.62       629\n",
      "weighted avg       0.86      0.83      0.79       629\n",
      "\n"
     ]
    }
   ],
   "source": [
    "# ---- STEP 6: Predictions + Confusion Matrix ----\n",
    "y_pred = best_model.predict(X_test)\n",
    "\n",
    "print(\"\\nConfusion Matrix:\")\n",
    "print(confusion_matrix(y_test, y_pred))\n",
    "\n",
    "print(\"\\nClassification Report:\")\n",
    "print(classification_report(y_test, y_pred))"
   ]
  },
  {
   "cell_type": "code",
   "execution_count": 126,
   "id": "61dd6ad0",
   "metadata": {},
   "outputs": [
    {
     "data": {
      "text/plain": [
       "0.834658187599364"
      ]
     },
     "execution_count": 126,
     "metadata": {},
     "output_type": "execute_result"
    }
   ],
   "source": [
    "525/629"
   ]
  },
  {
   "cell_type": "code",
   "execution_count": 95,
   "id": "14282e11",
   "metadata": {},
   "outputs": [
    {
     "data": {
      "text/plain": [
       "501"
      ]
     },
     "execution_count": 95,
     "metadata": {},
     "output_type": "execute_result"
    }
   ],
   "source": [
    "np.sum(y_test)"
   ]
  },
  {
   "cell_type": "code",
   "execution_count": 96,
   "id": "e8538fc6",
   "metadata": {},
   "outputs": [
    {
     "data": {
      "text/plain": [
       "0.7965023847376789"
      ]
     },
     "execution_count": 96,
     "metadata": {},
     "output_type": "execute_result"
    }
   ],
   "source": [
    "501/629"
   ]
  },
  {
   "cell_type": "code",
   "execution_count": null,
   "id": "d8a1754d",
   "metadata": {},
   "outputs": [],
   "source": [
    "# ---- STEP 0: Load or prepare your DataFrame ----\n",
    "# Assume df is your full feature DataFrame and y is the label vector\n",
    "# df = extract_numeric_features(full_data)   # <--- from your previous function\n",
    "# y = [client['label']['label'] for client in full_data]\n",
    "\n",
    "# Convert labels to numeric if needed\n",
    "y = pd.Series(y).map({'Reject': 0, 'Accept': 1})\n",
    "\n",
    "# ---- STEP 1: Split dataset ----\n",
    "X_train, X_test, y_train, y_test = train_test_split(\n",
    "    df, y, test_size=0.1, stratify=y, random_state=42\n",
    ")\n",
    "\n",
    "# ---- STEP 2: Define CatBoost and GridSearch ----\n",
    "model = CatBoostClassifier(verbose=0, random_state=42)\n",
    "\n",
    "param_grid = {\n",
    "    'depth': [4, 6, 8],\n",
    "    'learning_rate': [0.01, 0.05, 0.1],\n",
    "    'iterations': [100, 200],\n",
    "    'l2_leaf_reg': [1, 3, 5],\n",
    "}\n",
    "\n",
    "cv = StratifiedKFold(n_splits=5, shuffle=True, random_state=42)\n",
    "\n",
    "grid_search = GridSearchCV(\n",
    "    model,\n",
    "    param_grid,\n",
    "    scoring='accuracy',\n",
    "    cv=cv,\n",
    "    n_jobs=-1,\n",
    "    verbose=1\n",
    ")\n",
    "\n",
    "grid_search.fit(X_train, y_train)\n",
    "\n",
    "print(\"Best Parameters:\", grid_search.best_params_)\n",
    "\n",
    "# ---- STEP 3: Refit model with best parameters on full train ----\n",
    "best_model = CatBoostClassifier(\n",
    "    **grid_search.best_params_,\n",
    "    verbose=0,\n",
    "    random_state=42\n",
    ")\n",
    "best_model.fit(X_train, y_train)\n",
    "\n",
    "# ---- STEP 4: Boruta SHAP for Feature Selection ----\n",
    "boruta_selector = BorutaShap(\n",
    "    model=best_model,\n",
    "    importance_measure='shap',\n",
    "    classification=True\n",
    ")\n",
    "\n",
    "boruta_selector.fit(X=X_train, y=y_train, n_trials=100, sample=False, train_or_test='test', normalize=True)\n",
    "\n",
    "# Select the important features only\n",
    "selected_features = boruta_selector.Subset().columns.tolist()\n",
    "print(\"✅ Selected Features:\", selected_features)\n",
    "\n",
    "\n",
    "# ---- STEP 5: Refit using only selected features ----\n",
    "X_train_sel = X_train[selected_features]\n",
    "X_test_sel = X_test[selected_features]\n",
    "\n",
    "final_model = CatBoostClassifier(\n",
    "    **grid_search.best_params_,\n",
    "    verbose=0,\n",
    "    random_state=42\n",
    ")\n",
    "final_model.fit(X_train_sel, y_train)\n",
    "\n",
    "# ---- STEP 6: Predictions + Confusion Matrix ----\n",
    "y_pred = final_model.predict(X_test_sel)\n",
    "\n",
    "print(\"\\nConfusion Matrix:\")\n",
    "print(confusion_matrix(y_test, y_pred))\n",
    "\n",
    "print(\"\\nClassification Report:\")\n",
    "print(classification_report(y_test, y_pred))\n"
   ]
  }
 ],
 "metadata": {
  "kernelspec": {
   "display_name": "base",
   "language": "python",
   "name": "python3"
  },
  "language_info": {
   "codemirror_mode": {
    "name": "ipython",
    "version": 3
   },
   "file_extension": ".py",
   "mimetype": "text/x-python",
   "name": "python",
   "nbconvert_exporter": "python",
   "pygments_lexer": "ipython3",
   "version": "3.9.13"
  }
 },
 "nbformat": 4,
 "nbformat_minor": 5
}
